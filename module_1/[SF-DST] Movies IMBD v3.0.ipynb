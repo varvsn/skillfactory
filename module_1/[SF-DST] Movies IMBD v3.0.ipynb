{
 "cells": [
  {
   "cell_type": "code",
   "execution_count": 93,
   "metadata": {
    "_cell_guid": "b1076dfc-b9ad-4769-8c92-a6c4dae69d19",
    "_uuid": "8f2839f25d086af736a60e9eeb907d3b93b6e0e5"
   },
   "outputs": [
    {
     "name": "stdout",
     "output_type": "stream",
     "text": [
      "['.ipynb_checkpoints', '1.ipynb', 'data.csv', 'imdb_sql_test.ipynb', 'Untitled.ipynb', 'victorina.db', 'victorina1.db', '[SF-DST] Movies IMBD v3.0.ipynb']\n"
     ]
    }
   ],
   "source": [
    "import numpy as np\n",
    "import pandas as pd\n",
    "import seaborn as sns\n",
    "import matplotlib.pyplot as plt\n",
    "import os\n",
    "from collections import Counter\n",
    "print(os.listdir(\"C:/Users/fors/Data_science\"))"
   ]
  },
  {
   "cell_type": "code",
   "execution_count": 94,
   "metadata": {},
   "outputs": [
    {
     "data": {
      "text/html": [
       "<div>\n",
       "<style scoped>\n",
       "    .dataframe tbody tr th:only-of-type {\n",
       "        vertical-align: middle;\n",
       "    }\n",
       "\n",
       "    .dataframe tbody tr th {\n",
       "        vertical-align: top;\n",
       "    }\n",
       "\n",
       "    .dataframe thead th {\n",
       "        text-align: right;\n",
       "    }\n",
       "</style>\n",
       "<table border=\"1\" class=\"dataframe\">\n",
       "  <thead>\n",
       "    <tr style=\"text-align: right;\">\n",
       "      <th></th>\n",
       "      <th>imdb_id</th>\n",
       "      <th>popularity</th>\n",
       "      <th>budget</th>\n",
       "      <th>revenue</th>\n",
       "      <th>original_title</th>\n",
       "      <th>cast</th>\n",
       "      <th>director</th>\n",
       "      <th>tagline</th>\n",
       "      <th>overview</th>\n",
       "      <th>runtime</th>\n",
       "      <th>genres</th>\n",
       "      <th>production_companies</th>\n",
       "      <th>release_date</th>\n",
       "      <th>vote_count</th>\n",
       "      <th>vote_average</th>\n",
       "      <th>release_year</th>\n",
       "    </tr>\n",
       "  </thead>\n",
       "  <tbody>\n",
       "    <tr>\n",
       "      <th>0</th>\n",
       "      <td>tt0369610</td>\n",
       "      <td>32.985763</td>\n",
       "      <td>150000000</td>\n",
       "      <td>1513528810</td>\n",
       "      <td>Jurassic World</td>\n",
       "      <td>Chris Pratt|Bryce Dallas Howard|Irrfan Khan|Vi...</td>\n",
       "      <td>Colin Trevorrow</td>\n",
       "      <td>The park is open.</td>\n",
       "      <td>Twenty-two years after the events of Jurassic ...</td>\n",
       "      <td>124</td>\n",
       "      <td>Action|Adventure|Science Fiction|Thriller</td>\n",
       "      <td>Universal Studios|Amblin Entertainment|Legenda...</td>\n",
       "      <td>6/9/2015</td>\n",
       "      <td>5562</td>\n",
       "      <td>6.5</td>\n",
       "      <td>2015</td>\n",
       "    </tr>\n",
       "  </tbody>\n",
       "</table>\n",
       "</div>"
      ],
      "text/plain": [
       "     imdb_id  popularity     budget     revenue  original_title  \\\n",
       "0  tt0369610   32.985763  150000000  1513528810  Jurassic World   \n",
       "\n",
       "                                                cast         director  \\\n",
       "0  Chris Pratt|Bryce Dallas Howard|Irrfan Khan|Vi...  Colin Trevorrow   \n",
       "\n",
       "             tagline                                           overview  \\\n",
       "0  The park is open.  Twenty-two years after the events of Jurassic ...   \n",
       "\n",
       "   runtime                                     genres  \\\n",
       "0      124  Action|Adventure|Science Fiction|Thriller   \n",
       "\n",
       "                                production_companies release_date  vote_count  \\\n",
       "0  Universal Studios|Amblin Entertainment|Legenda...     6/9/2015        5562   \n",
       "\n",
       "   vote_average  release_year  \n",
       "0           6.5          2015  "
      ]
     },
     "execution_count": 94,
     "metadata": {},
     "output_type": "execute_result"
    }
   ],
   "source": [
    "data = pd.read_csv('data.csv')\n",
    "data.head(1)"
   ]
  },
  {
   "cell_type": "code",
   "execution_count": 6,
   "metadata": {},
   "outputs": [
    {
     "data": {
      "text/plain": [
       "1890"
      ]
     },
     "execution_count": 6,
     "metadata": {},
     "output_type": "execute_result"
    }
   ],
   "source": [
    "len(data)"
   ]
  },
  {
   "cell_type": "markdown",
   "metadata": {},
   "source": [
    "# Предобработка датасета"
   ]
  },
  {
   "cell_type": "code",
   "execution_count": 97,
   "metadata": {},
   "outputs": [],
   "source": [
    "answer_ls = [] # создадим список с ответами. сюда будем добавлять ответы по мере прохождения теста\n",
    "# сюда можем вписать создание новых колонок в датасете\n",
    "\n",
    "import csv, sqlite3, pandas, datetime,re\n",
    "\n",
    "con = sqlite3.connect(\"victorina.db\")\n",
    "cur = con.cursor()\n",
    "cur.execute(\"DROP TABLE IF EXISTS films;\")\n",
    "con.commit()\n",
    "cur.execute(\"CREATE TABLE films (\\\n",
    "            `imdb_id`,\\\n",
    "            `popularity`,\\\n",
    "            `budget`,\\\n",
    "            `revenue`,\\\n",
    "            `original_title`,\\\n",
    "            `cast`,\\\n",
    "            `director`,\\\n",
    "            `tagline`,\\\n",
    "            `overview`,\\\n",
    "            `runtime`,\\\n",
    "            `genres`,\\\n",
    "            `production_companies`,\\\n",
    "            `release_date`,\\\n",
    "            `vote_count`,\\\n",
    "            `vote_average`,\\\n",
    "            `release_year`,\\\n",
    "            `profit`\\\n",
    "           );\") \n",
    "           \n",
    "con.commit()\n",
    "df = pandas.read_csv('data.csv')\n",
    "df['profit'] = df.revenue-df.budget\n",
    "df.to_sql('films', con, if_exists='append', index=False)\n",
    "\n",
    "#Gain all production_companies\n",
    "production_companies = {}\n",
    "for i in df.production_companies.apply(lambda x: x.split('|')):\n",
    "    for j in i:\n",
    "        production_companies[j] = 1\n",
    "#print(production_companies.keys())\n",
    "\n",
    "#Gain all actors\n",
    "actors = {}\n",
    "for i in df.cast.apply(lambda x: x.split('|')):\n",
    "    for j in i:\n",
    "        actors[j] = 1\n",
    "\n",
    "#Gain all genres\n",
    "genres = {}\n",
    "for i in df.genres.apply(lambda x: x.split('|')):\n",
    "    for j in i:\n",
    "        genres[j] = 1\n",
    "\n",
    "#Gain all directors\n",
    "directors = {}\n",
    "for i in df.director.apply(lambda x: x.split('|')):\n",
    "    for j in i:\n",
    "        directors[j] = 0\n",
    "\n",
    "\n"
   ]
  },
  {
   "cell_type": "markdown",
   "metadata": {},
   "source": [
    "# 1. У какого фильма из списка самый большой бюджет?\n",
    "Варианты ответов:\n",
    "1. The Dark Knight Rises (tt1345836)\n",
    "2. Spider-Man 3 (tt0413300)\n",
    "3. Avengers: Age of Ultron (tt2395427)\n",
    "4. The Warrior's Way\t(tt1032751)\n",
    "5. Pirates of the Caribbean: On Stranger Tides (tt1298650)"
   ]
  },
  {
   "cell_type": "code",
   "execution_count": 98,
   "metadata": {},
   "outputs": [
    {
     "data": {
      "text/plain": [
       "491    The Warrior's Way\n",
       "Name: original_title, dtype: object"
      ]
     },
     "metadata": {},
     "output_type": "display_data"
    }
   ],
   "source": [
    "# тут вводим ваш ответ и добавлем в его список ответов (сейчас для примера стоит \"1\")\n",
    "display(data[data.budget == data.budget.max()].original_title)\n",
    "answer_ls.append(4)\n"
   ]
  },
  {
   "cell_type": "markdown",
   "metadata": {},
   "source": [
    "# 2. Какой из фильмов самый длительный (в минутах)\n",
    "1. The Lord of the Rings: The Return of the King\t(tt0167260)\n",
    "2. Gods and Generals\t(tt0279111)\n",
    "3. King Kong\t(tt0360717)\n",
    "4. Pearl Harbor\t(tt0213149)\n",
    "5. Alexander\t(tt0346491)"
   ]
  },
  {
   "cell_type": "code",
   "execution_count": 99,
   "metadata": {},
   "outputs": [
    {
     "data": {
      "text/plain": [
       "1158    Gods and Generals\n",
       "Name: original_title, dtype: object"
      ]
     },
     "metadata": {},
     "output_type": "display_data"
    }
   ],
   "source": [
    "display(df[df.runtime == df.runtime.max()].original_title)\n",
    "answer_ls.append(2)"
   ]
  },
  {
   "cell_type": "markdown",
   "metadata": {},
   "source": [
    "# 3. Какой из фильмов самый короткий (в минутах)\n",
    "Варианты ответов:\n",
    "\n",
    "1. Home on the Range\ttt0299172\n",
    "2. The Jungle Book 2\ttt0283426\n",
    "3. Winnie the Pooh\ttt1449283\n",
    "4. Corpse Bride\ttt0121164\n",
    "5. Hoodwinked!\ttt0443536"
   ]
  },
  {
   "cell_type": "code",
   "execution_count": 100,
   "metadata": {},
   "outputs": [
    {
     "data": {
      "text/plain": [
       "769    Winnie the Pooh\n",
       "Name: original_title, dtype: object"
      ]
     },
     "metadata": {},
     "output_type": "display_data"
    }
   ],
   "source": [
    "display(df[df.runtime == df.runtime.min()].original_title)\n",
    "answer_ls.append(3)"
   ]
  },
  {
   "cell_type": "markdown",
   "metadata": {},
   "source": [
    "# 4. Средняя длительность фильма?\n",
    "\n",
    "Варианты ответов:\n",
    "1. 115\n",
    "2. 110\n",
    "3. 105\n",
    "4. 120\n",
    "5. 100\n"
   ]
  },
  {
   "cell_type": "code",
   "execution_count": 101,
   "metadata": {},
   "outputs": [
    {
     "data": {
      "text/plain": [
       "109.65343915343915"
      ]
     },
     "metadata": {},
     "output_type": "display_data"
    }
   ],
   "source": [
    "display(df.runtime.mean())\n",
    "answer_ls.append(2)"
   ]
  },
  {
   "cell_type": "markdown",
   "metadata": {},
   "source": [
    "# 5. Средняя длительность фильма по медиане?\n",
    "Варианты ответов:\n",
    "1. 106\n",
    "2. 112\n",
    "3. 101\n",
    "4. 120\n",
    "5. 115\n",
    "\n",
    "\n"
   ]
  },
  {
   "cell_type": "code",
   "execution_count": 102,
   "metadata": {},
   "outputs": [
    {
     "data": {
      "text/plain": [
       "106.5"
      ]
     },
     "metadata": {},
     "output_type": "display_data"
    }
   ],
   "source": [
    "display(df.runtime.median())\n",
    "answer_ls.append(1)"
   ]
  },
  {
   "cell_type": "markdown",
   "metadata": {},
   "source": [
    "# 6. Какой самый прибыльный фильм?\n",
    "Варианты ответов:\n",
    "1. The Avengers\ttt0848228\n",
    "2. Minions\ttt2293640\n",
    "3. Star Wars: The Force Awakens\ttt2488496\n",
    "4. Furious 7\ttt2820852\n",
    "5. Avatar\ttt0499549"
   ]
  },
  {
   "cell_type": "code",
   "execution_count": 104,
   "metadata": {},
   "outputs": [
    {
     "data": {
      "text/plain": [
       "239    Avatar\n",
       "Name: original_title, dtype: object"
      ]
     },
     "metadata": {},
     "output_type": "display_data"
    }
   ],
   "source": [
    "display(df[df.profit == df.profit.max()].original_title)\n",
    "answer_ls.append(5)"
   ]
  },
  {
   "cell_type": "markdown",
   "metadata": {},
   "source": [
    "# 7. Какой фильм самый убыточный?\n",
    "Варианты ответов:\n",
    "1. Supernova tt0134983\n",
    "2. The Warrior's Way tt1032751\n",
    "3. Flushed Away\ttt0424095\n",
    "4. The Adventures of Pluto Nash\ttt0180052\n",
    "5. The Lone Ranger\ttt1210819"
   ]
  },
  {
   "cell_type": "code",
   "execution_count": 105,
   "metadata": {},
   "outputs": [
    {
     "data": {
      "text/plain": [
       "491    The Warrior's Way\n",
       "Name: original_title, dtype: object"
      ]
     },
     "metadata": {},
     "output_type": "display_data"
    }
   ],
   "source": [
    "display(df[df.profit == df.profit.min()].original_title)\n",
    "answer_ls.append(2)"
   ]
  },
  {
   "cell_type": "markdown",
   "metadata": {},
   "source": [
    "# 8. Сколько всего фильмов в прибыли?\n",
    "Варианты ответов:\n",
    "1. 1478\n",
    "2. 1520\n",
    "3. 1241\n",
    "4. 1135\n",
    "5. 1398\n"
   ]
  },
  {
   "cell_type": "code",
   "execution_count": 106,
   "metadata": {},
   "outputs": [
    {
     "data": {
      "text/plain": [
       "imdb_id                 1478\n",
       "popularity              1478\n",
       "budget                  1478\n",
       "revenue                 1478\n",
       "original_title          1478\n",
       "cast                    1478\n",
       "director                1478\n",
       "tagline                 1478\n",
       "overview                1478\n",
       "runtime                 1478\n",
       "genres                  1478\n",
       "production_companies    1478\n",
       "release_date            1478\n",
       "vote_count              1478\n",
       "vote_average            1478\n",
       "release_year            1478\n",
       "profit                  1478\n",
       "dtype: int64"
      ]
     },
     "metadata": {},
     "output_type": "display_data"
    }
   ],
   "source": [
    "display(df[df.revenue > df.budget].count())\n",
    "answer_ls.append(1)"
   ]
  },
  {
   "cell_type": "markdown",
   "metadata": {},
   "source": [
    "# 9. Самый прибыльный фильм в 2008 году?\n",
    "Варианты ответов:\n",
    "1. Madagascar: Escape 2 Africa\ttt0479952\n",
    "2. Iron Man\ttt0371746\n",
    "3. Kung Fu Panda\ttt0441773\n",
    "4. The Dark Knight\ttt0468569\n",
    "5. Mamma Mia!\ttt0795421"
   ]
  },
  {
   "cell_type": "code",
   "execution_count": 107,
   "metadata": {},
   "outputs": [
    {
     "data": {
      "text/plain": [
       "600    The Dark Knight\n",
       "Name: original_title, dtype: object"
      ]
     },
     "metadata": {},
     "output_type": "display_data"
    }
   ],
   "source": [
    "display(df[(df.release_year == 2008)].sort_values(['revenue'],ascending=False).head(1).original_title)\n",
    "answer_ls.append(4)"
   ]
  },
  {
   "cell_type": "markdown",
   "metadata": {},
   "source": [
    "# 10. Самый убыточный фильм за период с 2012 по 2014 (включительно)?\n",
    "Варианты ответов:\n",
    "1. Winter's Tale\ttt1837709\n",
    "2. Stolen\ttt1656186\n",
    "3. Broken City\ttt1235522\n",
    "4. Upside Down\ttt1374992\n",
    "5. The Lone Ranger\ttt1210819\n"
   ]
  },
  {
   "cell_type": "code",
   "execution_count": 108,
   "metadata": {},
   "outputs": [
    {
     "data": {
      "text/plain": [
       "1246    The Lone Ranger\n",
       "Name: original_title, dtype: object"
      ]
     },
     "metadata": {},
     "output_type": "display_data"
    }
   ],
   "source": [
    "display(df[(df.release_year <= 2014) & (df.release_year >= 2012)].sort_values(['profit'],ascending=True).head(1).original_title)\n",
    "answer_ls.append(5)"
   ]
  },
  {
   "cell_type": "markdown",
   "metadata": {},
   "source": [
    "# 11. Какого жанра фильмов больше всего?\n",
    "Варианты ответов:\n",
    "1. Action\n",
    "2. Adventure\n",
    "3. Drama\n",
    "4. Comedy\n",
    "5. Thriller"
   ]
  },
  {
   "cell_type": "code",
   "execution_count": 109,
   "metadata": {},
   "outputs": [
    {
     "data": {
      "text/plain": [
       "'Drama'"
      ]
     },
     "metadata": {},
     "output_type": "display_data"
    }
   ],
   "source": [
    "con = sqlite3.connect(\"victorina.db\")\n",
    "cur = con.cursor()\n",
    "for i in genres.keys():\n",
    "    cur.execute(\"SELECT COUNT(*) FROM `films` WHERE `genres` LIKE ('%\"+i+\"%')\")\n",
    "    genres[i] = cur.fetchone()[0]\n",
    "display(max(genres, key=genres.get)) \n",
    "genres = genres.fromkeys(genres, 0)\n",
    "answer_ls.append(3)"
   ]
  },
  {
   "cell_type": "markdown",
   "metadata": {},
   "source": [
    "# 12. Какого жанра среди прибыльных фильмов больше всего?\n",
    "Варианты ответов:\n",
    "1. Drama\n",
    "2. Comedy\n",
    "3. Action\n",
    "4. Thriller\n",
    "5. Adventure"
   ]
  },
  {
   "cell_type": "code",
   "execution_count": 110,
   "metadata": {},
   "outputs": [
    {
     "data": {
      "text/plain": [
       "'Drama'"
      ]
     },
     "metadata": {},
     "output_type": "display_data"
    }
   ],
   "source": [
    "for i in genres.keys():\n",
    "    cur.execute(\"SELECT COUNT(*) FROM `films` WHERE `genres` LIKE ('%\"+i+\"%') AND profit > 0\")\n",
    "    genres[i] = cur.fetchone()[0]\n",
    "display(max(genres, key=genres.get)) \n",
    "genres = genres.fromkeys(genres, 0)\n",
    "answer_ls.append(1)"
   ]
  },
  {
   "cell_type": "markdown",
   "metadata": {},
   "source": [
    "# 13. Кто из режиссеров снял больше всего фильмов?\n",
    "Варианты ответов:\n",
    "1. Steven Spielberg\n",
    "2. Ridley Scott \n",
    "3. Steven Soderbergh\n",
    "4. Christopher Nolan\n",
    "5. Clint Eastwood"
   ]
  },
  {
   "cell_type": "code",
   "execution_count": 111,
   "metadata": {},
   "outputs": [
    {
     "data": {
      "text/plain": [
       "'Steven Soderbergh'"
      ]
     },
     "metadata": {},
     "output_type": "display_data"
    }
   ],
   "source": [
    "for i in directors:\n",
    "    for j in df.director:\n",
    "        if i in j.split('|'):\n",
    "            directors[i]+=1\n",
    "            next\n",
    "display(max(directors, key=directors.get))\n",
    "directors = directors.fromkeys(directors, 0)\n",
    "answer_ls.append(3)"
   ]
  },
  {
   "cell_type": "markdown",
   "metadata": {},
   "source": [
    "# 14. Кто из режиссеров снял больше всего Прибыльных фильмов?\n",
    "Варианты ответов:\n",
    "1. Steven Soderbergh\n",
    "2. Clint Eastwood\n",
    "3. Steven Spielberg\n",
    "4. Ridley Scott\n",
    "5. Christopher Nolan"
   ]
  },
  {
   "cell_type": "code",
   "execution_count": 112,
   "metadata": {},
   "outputs": [
    {
     "data": {
      "text/plain": [
       "'Ridley Scott'"
      ]
     },
     "metadata": {},
     "output_type": "display_data"
    }
   ],
   "source": [
    "cur.execute('SELECT `director`, `profit` FROM `films`')\n",
    "f = cur.fetchall()\n",
    "for i in directors:\n",
    "    for j in f:\n",
    "        if i in j[0].split('|') and j[1] > 0:\n",
    "            directors[i]+=1\n",
    "            next\n",
    "display(max(directors, key=directors.get))\n",
    "directors = directors.fromkeys(directors, 0)\n",
    "answer_ls.append(4)"
   ]
  },
  {
   "cell_type": "markdown",
   "metadata": {},
   "source": [
    "# 15. Кто из режиссеров принес больше всего прибыли?\n",
    "Варианты ответов:\n",
    "1. Steven Spielberg\n",
    "2. Christopher Nolan\n",
    "3. David Yates\n",
    "4. James Cameron\n",
    "5. Peter Jackson\n"
   ]
  },
  {
   "cell_type": "code",
   "execution_count": 113,
   "metadata": {},
   "outputs": [
    {
     "data": {
      "text/plain": [
       "'Peter Jackson'"
      ]
     },
     "metadata": {},
     "output_type": "display_data"
    }
   ],
   "source": [
    "cur.execute('SELECT `director`, `profit` FROM `films`')\n",
    "f = cur.fetchall()\n",
    "for i in directors:\n",
    "    for j in f:\n",
    "        if i in j[0].split('|') and j[1] > 0:\n",
    "            directors[i]+=j[1]\n",
    "            next\n",
    "display(max(directors, key=directors.get))\n",
    "directors = directors.fromkeys(directors, 0)\n",
    "answer_ls.append(5)"
   ]
  },
  {
   "cell_type": "markdown",
   "metadata": {},
   "source": [
    "# 16. Какой актер принес больше всего прибыли?\n",
    "Варианты ответов:\n",
    "1. Emma Watson\n",
    "2. Johnny Depp\n",
    "3. Michelle Rodriguez\n",
    "4. Orlando Bloom\n",
    "5. Rupert Grint"
   ]
  },
  {
   "cell_type": "code",
   "execution_count": 114,
   "metadata": {},
   "outputs": [
    {
     "data": {
      "text/plain": [
       "'Emma Watson'"
      ]
     },
     "metadata": {},
     "output_type": "display_data"
    }
   ],
   "source": [
    "cur.execute('SELECT `imdb_id`, `cast`, `profit` FROM `films`')\n",
    "f = cur.fetchall()\n",
    "for i in f:\n",
    "    for j in i[1].split('|'):\n",
    "        actors[j]+= i[2]\n",
    "display(max(actors, key=actors.get)) \n",
    "actors = actors.fromkeys(actors, 0)\n",
    "answer_ls.append(1)"
   ]
  },
  {
   "cell_type": "markdown",
   "metadata": {},
   "source": [
    "# 17. Какой актер принес меньше всего прибыли в 2012 году?\n",
    "Варианты ответов:\n",
    "1. Nicolas Cage\n",
    "2. Danny Huston\n",
    "3. Kirsten Dunst\n",
    "4. Jim Sturgess\n",
    "5. Sami Gayle"
   ]
  },
  {
   "cell_type": "code",
   "execution_count": 115,
   "metadata": {},
   "outputs": [
    {
     "data": {
      "text/plain": [
       "'Kirsten Dunst'"
      ]
     },
     "metadata": {},
     "output_type": "display_data"
    }
   ],
   "source": [
    "cur.execute('SELECT `imdb_id`, `cast`, `profit` FROM `films` WHERE `release_year` = 2012')\n",
    "f = cur.fetchall()\n",
    "for i in f:\n",
    "    for j in i[1].split('|'):\n",
    "        actors[j]+= i[2]\n",
    "display(min(actors, key=actors.get)) \n",
    "actors = actors.fromkeys(actors, 0)\n",
    "answer_ls.append(3)"
   ]
  },
  {
   "cell_type": "markdown",
   "metadata": {},
   "source": [
    "# 18. Какой актер снялся в большем количестве высокобюджетных фильмов? (в фильмах где бюджет выше среднего по данной выборке)\n",
    "Варианты ответов:\n",
    "1. Tom Cruise\n",
    "2. Mark Wahlberg \n",
    "3. Matt Damon\n",
    "4. Angelina Jolie\n",
    "5. Adam Sandler"
   ]
  },
  {
   "cell_type": "code",
   "execution_count": 116,
   "metadata": {},
   "outputs": [
    {
     "data": {
      "text/plain": [
       "'Matt Damon'"
      ]
     },
     "metadata": {},
     "output_type": "display_data"
    }
   ],
   "source": [
    "mean_budget = df.budget.mean()\n",
    "cur.execute('SELECT `imdb_id`, `cast`, `profit` FROM `films` WHERE `budget` >%s' % (mean_budget))\n",
    "f = cur.fetchall()\n",
    "for i in f:\n",
    "    for j in i[1].split('|'):\n",
    "        actors[j]+= 1\n",
    "display(max(actors, key=actors.get)) \n",
    "actors = actors.fromkeys(actors, 0)\n",
    "answer_ls.append(3)"
   ]
  },
  {
   "cell_type": "markdown",
   "metadata": {},
   "source": [
    "# 19. В фильмах какого жанра больше всего снимался Nicolas Cage?  \n",
    "Варианты ответа:\n",
    "1. Drama\n",
    "2. Action\n",
    "3. Thriller\n",
    "4. Adventure\n",
    "5. Crime"
   ]
  },
  {
   "cell_type": "code",
   "execution_count": 117,
   "metadata": {},
   "outputs": [
    {
     "data": {
      "text/plain": [
       "'Action'"
      ]
     },
     "metadata": {},
     "output_type": "display_data"
    }
   ],
   "source": [
    "Cage = df[df.cast.str.contains(\"Nicolas Cage\", na=False)].genres.apply(lambda x: x.split('|'))\n",
    "for i in Cage:\n",
    "    for Nicolas in i:\n",
    "        genres[Nicolas] +=1\n",
    "display(max(genres, key=genres.get)) \n",
    "genres = genres.fromkeys(genres, 0)\n",
    "answer_ls.append(2)"
   ]
  },
  {
   "cell_type": "markdown",
   "metadata": {},
   "source": [
    "# 20. Какая студия сняла больше всего фильмов?\n",
    "Варианты ответа:\n",
    "1. Universal Pictures (Universal)\n",
    "2. Paramount Pictures\n",
    "3. Columbia Pictures\n",
    "4. Warner Bros\n",
    "5. Twentieth Century Fox Film Corporation"
   ]
  },
  {
   "cell_type": "code",
   "execution_count": 118,
   "metadata": {},
   "outputs": [
    {
     "data": {
      "text/plain": [
       "'Universal Pictures'"
      ]
     },
     "metadata": {},
     "output_type": "display_data"
    }
   ],
   "source": [
    "cur.execute('SELECT `production_companies` FROM `films`')\n",
    "f = cur.fetchall()\n",
    "for i in f:\n",
    "    for j in i[0].split('|'):\n",
    "        production_companies[j]+= 1\n",
    "        next\n",
    "display(max(production_companies, key=production_companies.get)) \n",
    "production_companies = production_companies.fromkeys(production_companies, 0) \n",
    "answer_ls.append(1)"
   ]
  },
  {
   "cell_type": "markdown",
   "metadata": {},
   "source": [
    "# 21. Какая студия сняла больше всего фильмов в 2015 году?\n",
    "Варианты ответа:\n",
    "1. Universal Pictures\n",
    "2. Paramount Pictures\n",
    "3. Columbia Pictures\n",
    "4. Warner Bros\n",
    "5. Twentieth Century Fox Film Corporation"
   ]
  },
  {
   "cell_type": "code",
   "execution_count": 119,
   "metadata": {},
   "outputs": [
    {
     "data": {
      "text/plain": [
       "'Warner Bros.'"
      ]
     },
     "metadata": {},
     "output_type": "display_data"
    }
   ],
   "source": [
    "cur.execute('SELECT `production_companies` FROM `films` WHERE `release_year` = 2015')\n",
    "f = cur.fetchall()\n",
    "for i in f:\n",
    "    for j in i[0].split('|'):\n",
    "        if j in production_companies:\n",
    "            production_companies[j]+= 1\n",
    "            next\n",
    "display(max(production_companies, key=production_companies.get)) \n",
    "production_companies = production_companies.fromkeys(production_companies, 0)\n",
    "answer_ls.append(4)"
   ]
  },
  {
   "cell_type": "markdown",
   "metadata": {},
   "source": [
    "# 22. Какая студия заработала больше всего денег в жанре комедий за все время?\n",
    "Варианты ответа:\n",
    "1. Warner Bros\n",
    "2. Universal Pictures (Universal)\n",
    "3. Columbia Pictures\n",
    "4. Paramount Pictures\n",
    "5. Walt Disney"
   ]
  },
  {
   "cell_type": "code",
   "execution_count": 120,
   "metadata": {},
   "outputs": [
    {
     "data": {
      "text/plain": [
       "'Universal Pictures'"
      ]
     },
     "metadata": {},
     "output_type": "display_data"
    }
   ],
   "source": [
    "cur.execute('SELECT `genres`, `production_companies`, `profit` FROM `films` WHERE `genres` like \"%Comedy%\"')\n",
    "f = cur.fetchall()\n",
    "for i in f:\n",
    "    for j in i[1].split('|'):\n",
    "        if j in production_companies:\n",
    "            production_companies[j]+= i[2]\n",
    "            next\n",
    "display(max(production_companies, key=production_companies.get)) \n",
    "production_companies = production_companies.fromkeys(production_companies, 0)\n",
    "answer_ls.append(2)"
   ]
  },
  {
   "cell_type": "markdown",
   "metadata": {},
   "source": [
    "# 23. Какая студия заработала больше всего денег в 2012 году?\n",
    "Варианты ответа:\n",
    "1. Universal Pictures (Universal)\n",
    "2. Warner Bros\n",
    "3. Columbia Pictures\n",
    "4. Paramount Pictures\n",
    "5. Lucasfilm"
   ]
  },
  {
   "cell_type": "code",
   "execution_count": 121,
   "metadata": {},
   "outputs": [
    {
     "data": {
      "text/plain": [
       "'Columbia Pictures'"
      ]
     },
     "metadata": {},
     "output_type": "display_data"
    }
   ],
   "source": [
    "cur.execute('SELECT `genres`, `production_companies`, `profit` FROM `films` WHERE release_year = 2012')\n",
    "f = cur.fetchall()\n",
    "for i in f:\n",
    "    for j in i[1].split('|'):\n",
    "        if j in production_companies:\n",
    "            production_companies[j]+= i[2]\n",
    "            next\n",
    "display(max(production_companies, key=production_companies.get))\n",
    "production_companies = production_companies.fromkeys(production_companies, 0)\n",
    "answer_ls.append(3)"
   ]
  },
  {
   "cell_type": "markdown",
   "metadata": {},
   "source": [
    "# 24. Самый убыточный фильм от Paramount Pictures\n",
    "Варианты ответа:\n",
    "\n",
    "1. K-19: The Widowmaker tt0267626\n",
    "2. Next tt0435705\n",
    "3. Twisted tt0315297\n",
    "4. The Love Guru tt0811138\n",
    "5. The Fighter tt0964517"
   ]
  },
  {
   "cell_type": "code",
   "execution_count": 122,
   "metadata": {},
   "outputs": [
    {
     "data": {
      "text/plain": [
       "926    K-19: The Widowmaker\n",
       "Name: original_title, dtype: object"
      ]
     },
     "metadata": {},
     "output_type": "display_data"
    }
   ],
   "source": [
    "r = df[df.production_companies.str.contains(\"Paramount Pictures\", na=False)]\n",
    "display(r[r.profit == r.profit.min()].original_title)\n",
    "answer_ls.append(1)"
   ]
  },
  {
   "cell_type": "markdown",
   "metadata": {},
   "source": [
    "# 25. Какой Самый прибыльный год (заработали больше всего)?\n",
    "Варианты ответа:\n",
    "1. 2014\n",
    "2. 2008\n",
    "3. 2012\n",
    "4. 2002\n",
    "5. 2015"
   ]
  },
  {
   "cell_type": "code",
   "execution_count": 123,
   "metadata": {},
   "outputs": [
    {
     "name": "stdout",
     "output_type": "stream",
     "text": [
      "2015\n"
     ]
    }
   ],
   "source": [
    "print(df.groupby(['release_year'])['profit'].sum().idxmax())\n",
    "answer_ls.append(5)"
   ]
  },
  {
   "cell_type": "markdown",
   "metadata": {},
   "source": [
    "# 26. Какой Самый прибыльный год для студии Warner Bros?\n",
    "Варианты ответа:\n",
    "1. 2014\n",
    "2. 2008\n",
    "3. 2012\n",
    "4. 2010\n",
    "5. 2015"
   ]
  },
  {
   "cell_type": "code",
   "execution_count": 124,
   "metadata": {},
   "outputs": [
    {
     "name": "stdout",
     "output_type": "stream",
     "text": [
      "2014\n"
     ]
    }
   ],
   "source": [
    "print(df[df.production_companies.str.contains(\"Warner Bros\", na=False)].groupby(['release_year'])['profit'].sum().idxmax())\n",
    "answer_ls.append(1)"
   ]
  },
  {
   "cell_type": "markdown",
   "metadata": {},
   "source": [
    "# 27. В каком месяце за все годы суммарно вышло больше всего фильмов?\n",
    "Варианты ответа:\n",
    "1. Январь\n",
    "2. Июнь\n",
    "3. Декабрь\n",
    "4. Сентябрь\n",
    "5. Май"
   ]
  },
  {
   "cell_type": "code",
   "execution_count": 125,
   "metadata": {},
   "outputs": [
    {
     "data": {
      "text/plain": [
       "9"
      ]
     },
     "metadata": {},
     "output_type": "display_data"
    }
   ],
   "source": [
    "months = {}\n",
    "for i in df.release_date:\n",
    "    b = datetime.datetime.strptime(i, '%m/%d/%Y')\n",
    "    if b.month in months:\n",
    "        months[b.month] +=1\n",
    "    else:\n",
    "        months[b.month] = 1\n",
    "display(max(months, key=months.get))\n",
    "answer_ls.append(4)"
   ]
  },
  {
   "cell_type": "markdown",
   "metadata": {},
   "source": [
    "# 28. Сколько суммарно вышло фильмов летом? (за июнь, июль, август)\n",
    "Варианты ответа:\n",
    "1. 345\n",
    "2. 450\n",
    "3. 478\n",
    "4. 523\n",
    "5. 381"
   ]
  },
  {
   "cell_type": "code",
   "execution_count": 126,
   "metadata": {},
   "outputs": [
    {
     "data": {
      "text/plain": [
       "450"
      ]
     },
     "metadata": {},
     "output_type": "display_data"
    }
   ],
   "source": [
    "months = 0\n",
    "for i in df.release_date:\n",
    "    b = datetime.datetime.strptime(i, '%m/%d/%Y')\n",
    "    if b.month in [6,7,8]:\n",
    "        months +=1\n",
    "display(months)\n",
    "answer_ls.append(2)"
   ]
  },
  {
   "cell_type": "markdown",
   "metadata": {},
   "source": [
    "# 29. Какой режисер выпускает (суммарно по годам) больше всего фильмов зимой?\n",
    "Варианты ответов:\n",
    "1. Steven Soderbergh\n",
    "2. Christopher Nolan\n",
    "3. Clint Eastwood\n",
    "4. Ridley Scott\n",
    "5. Peter Jackson"
   ]
  },
  {
   "cell_type": "code",
   "execution_count": 127,
   "metadata": {},
   "outputs": [
    {
     "data": {
      "text/plain": [
       "'Peter Jackson'"
      ]
     },
     "metadata": {},
     "output_type": "display_data"
    }
   ],
   "source": [
    "dirs = {}\n",
    "cur.execute('SELECT `director`, `release_date` FROM `films`')\n",
    "f = cur.fetchall()\n",
    "for i in f:\n",
    "    b = datetime.datetime.strptime(i[1], '%m/%d/%Y')\n",
    "    if b.month in [11,12,1]:\n",
    "        if i[0] in dirs:\n",
    "            dirs[i[0]] +=1\n",
    "        else:\n",
    "            dirs[i[0]] =1\n",
    "display(max(dirs, key=dirs.get))\n",
    "answer_ls.append(5)"
   ]
  },
  {
   "cell_type": "markdown",
   "metadata": {},
   "source": [
    "# 30. Какой месяц чаще всего по годам самый прибыльный?\n",
    "Варианты ответа:\n",
    "1. Январь\n",
    "2. Июнь\n",
    "3. Декабрь\n",
    "4. Сентябрь\n",
    "5. Май"
   ]
  },
  {
   "cell_type": "code",
   "execution_count": 128,
   "metadata": {},
   "outputs": [
    {
     "data": {
      "text/plain": [
       "0    6\n",
       "dtype: int64"
      ]
     },
     "metadata": {},
     "output_type": "display_data"
    }
   ],
   "source": [
    "res = {}\n",
    "res_max = {}\n",
    "for i in range(df.release_year.min(), df.release_year.max()+1):\n",
    "    cur.execute('SELECT `profit`, `release_date` FROM `films` WHERE release_year = '+str(i))\n",
    "    f = cur.fetchall()\n",
    "    months = {}\n",
    "    for j in f:\n",
    "        b = datetime.datetime.strptime(j[1], '%m/%d/%Y')\n",
    "        if b.month in months:\n",
    "            months[b.month] += j[0]\n",
    "        else:\n",
    "            months[b.month] = j[0]\n",
    "    res[i] = months\n",
    "    res_max[i] = max(months, key=months.get)\n",
    "\n",
    "mcount = pandas.DataFrame.from_dict(res_max.items())\n",
    "display(mcount[1].mode())\n",
    "answer_ls.append(2)"
   ]
  },
  {
   "cell_type": "markdown",
   "metadata": {},
   "source": [
    "# 31. Названия фильмов какой студии в среднем самые длинные по количеству символов?\n",
    "Варианты ответа:\n",
    "1. Universal Pictures (Universal)\n",
    "2. Warner Bros\n",
    "3. Jim Henson Company, The\n",
    "4. Paramount Pictures\n",
    "5. Four By Two Productions"
   ]
  },
  {
   "cell_type": "code",
   "execution_count": 129,
   "metadata": {},
   "outputs": [
    {
     "data": {
      "text/plain": [
       "'Four By Two Productions'"
      ]
     },
     "metadata": {},
     "output_type": "display_data"
    }
   ],
   "source": [
    "#Put all films to companies\n",
    "cur.execute('SELECT `original_title`, `production_companies` FROM `films`')\n",
    "f = cur.fetchall()\n",
    "for comp in production_companies:\n",
    "    production_companies[comp] = []\n",
    "    for i in f:\n",
    "        if comp in i[1].split('|'):\n",
    "            production_companies[comp].append(i[0])\n",
    "            next\n",
    "##Get average len of films by company\n",
    "for i in production_companies:\n",
    "    comp_total_len = 0\n",
    "    count = 0\n",
    "    for j in production_companies[i]:\n",
    "        comp_total_len += len(j)\n",
    "        count+=1\n",
    "    production_companies[i] = comp_total_len/count\n",
    "display(max(production_companies, key=production_companies.get))\n",
    "production_companies = production_companies.fromkeys(production_companies, 0)\n",
    "answer_ls.append(5)"
   ]
  },
  {
   "cell_type": "markdown",
   "metadata": {},
   "source": [
    "# 32. Названия фильмов какой студии в среднем самые длинные по количеству слов?\n",
    "Варианты ответа:\n",
    "1. Universal Pictures (Universal)\n",
    "2. Warner Bros\n",
    "3. Jim Henson Company, The\n",
    "4. Paramount Pictures\n",
    "5. Four By Two Productions"
   ]
  },
  {
   "cell_type": "code",
   "execution_count": 130,
   "metadata": {},
   "outputs": [
    {
     "data": {
      "text/plain": [
       "'Four By Two Productions'"
      ]
     },
     "metadata": {},
     "output_type": "display_data"
    }
   ],
   "source": [
    "cur.execute('SELECT `original_title`, `production_companies` FROM `films`')\n",
    "f = cur.fetchall()\n",
    "for comp in production_companies:\n",
    "    production_companies[comp] = []\n",
    "    for i in f:\n",
    "        if comp in i[1].split('|'):\n",
    "            production_companies[comp].append(i[0])\n",
    "            next\n",
    "for i in production_companies:\n",
    "    comp_total_len = 0\n",
    "    count = 0\n",
    "    for j in production_companies[i]:\n",
    "        comp_total_len += len(j.split(' '))\n",
    "        count+=1\n",
    "    production_companies[i] = comp_total_len/count\n",
    "display(max(production_companies, key=production_companies.get))\n",
    "production_companies = production_companies.fromkeys(production_companies, 0)\n",
    "\n",
    "answer_ls.append(5)"
   ]
  },
  {
   "cell_type": "markdown",
   "metadata": {},
   "source": [
    "# 33. Сколько разных слов используется в названиях фильмов?(без учета регистра)\n",
    "Варианты ответа:\n",
    "1. 6540\n",
    "2. 1002\n",
    "3. 2461\n",
    "4. 28304\n",
    "5. 3432"
   ]
  },
  {
   "cell_type": "code",
   "execution_count": 131,
   "metadata": {},
   "outputs": [
    {
     "name": "stdout",
     "output_type": "stream",
     "text": [
      "2310\n"
     ]
    }
   ],
   "source": [
    "word = {}\n",
    "for i in df.original_title:\n",
    "    i = i.replace('/',' ').lower()\n",
    "    s = ''.join([k for k in i if k.isalpha() or k==' '])\n",
    "    for y in s.split():\n",
    "        word[y] = 1\n",
    "print(len(word.keys()))\n",
    "answer_ls.append(1)"
   ]
  },
  {
   "cell_type": "markdown",
   "metadata": {},
   "source": [
    "# 34. Какие фильмы входят в 1 процент лучших по рейтингу?\n",
    "Варианты ответа:\n",
    "1. Inside Out, Gone Girl, 12 Years a Slave\n",
    "2. BloodRayne, The Adventures of Rocky & Bullwinkle\n",
    "3. The Lord of the Rings: The Return of the King\n",
    "4. 300, Lucky Number Slevin"
   ]
  },
  {
   "cell_type": "code",
   "execution_count": 132,
   "metadata": {},
   "outputs": [],
   "source": [
    "#Вопрос непонятен\n",
    "answer_ls.append(1)"
   ]
  },
  {
   "cell_type": "markdown",
   "metadata": {},
   "source": [
    "# 35. Какие актеры чаще всего снимаются в одном фильме вместе\n",
    "Варианты ответа:\n",
    "1. Johnny Depp & Helena Bonham Carter\n",
    "2. Hugh Jackman & Ian McKellen\n",
    "3. Vin Diesel & Paul Walker\n",
    "4. Adam Sandler & Kevin James\n",
    "5. Daniel Radcliffe & Rupert Grint"
   ]
  },
  {
   "cell_type": "code",
   "execution_count": 133,
   "metadata": {},
   "outputs": [
    {
     "name": "stdout",
     "output_type": "stream",
     "text": [
      "[['Johnny Depp', 'Helena Bonham Carter', 6], ['Hugh Jackman', 'Ian McKellen', 5], ['Vin Diesel', 'Paul Walker', 5], ['Adam Sandler', 'Kevin James', 5], ['Daniel Radcliffe', 'Rupert Grint', 8]]\n"
     ]
    }
   ],
   "source": [
    "go = [['Johnny Depp','Helena Bonham Carter',0],\\\n",
    "      ['Hugh Jackman','Ian McKellen',0],\\\n",
    "      ['Vin Diesel','Paul Walker',0],\\\n",
    "      ['Adam Sandler','Kevin James',0],\\\n",
    "      ['Daniel Radcliffe','Rupert Grint',0]]\n",
    "for i in df.cast:\n",
    "    a = i.split('|')\n",
    "    count = 0\n",
    "    for j in go:\n",
    "        if (j[0] in a) and (j[1] in a):\n",
    "            go[count][2]+=1\n",
    "        count+=1\n",
    "print(go)\n",
    "answer_ls.append(5)"
   ]
  },
  {
   "cell_type": "markdown",
   "metadata": {},
   "source": [
    "# 36. У какого из режиссеров выше вероятность выпустить фильм в прибыли? (5 баллов)101\n",
    "Варианты ответа:\n",
    "1. Quentin Tarantino\n",
    "2. Steven Soderbergh\n",
    "3. Robert Rodriguez\n",
    "4. Christopher Nolan\n",
    "5. Clint Eastwood"
   ]
  },
  {
   "cell_type": "code",
   "execution_count": 134,
   "metadata": {},
   "outputs": [
    {
     "data": {
      "text/plain": [
       "{'Colin Trevorrow': [1, 1],\n",
       " 'George Miller': [3, 3],\n",
       " 'Robert Schwentke': [4, 3],\n",
       " 'J.J. Abrams': [5, 5],\n",
       " 'James Wan': [4, 3],\n",
       " 'Alejandro GonzÃ¡lez IÃ±Ã¡rritu': [4, 4],\n",
       " 'Alan Taylor': [2, 2],\n",
       " 'Ridley Scott': [12, 12],\n",
       " 'Kyle Balda': [2, 2],\n",
       " 'Pierre Coffin': [3, 3],\n",
       " 'Pete Docter': [3, 3],\n",
       " 'Sam Mendes': [5, 5],\n",
       " 'Lana Wachowski': [5, 4],\n",
       " 'Lilly Wachowski': [5, 4],\n",
       " 'Alex Garland': [1, 1],\n",
       " 'Chris Columbus': [5, 4],\n",
       " 'Joss Whedon': [2, 2],\n",
       " 'Quentin Tarantino': [7, 6],\n",
       " 'Olivier Megaton': [4, 4],\n",
       " 'Peyton Reed': [5, 4],\n",
       " 'Kenneth Branagh': [3, 2],\n",
       " 'Francis Lawrence': [6, 6],\n",
       " 'Brad Bird': [4, 4],\n",
       " 'Antoine Fuqua': [8, 8],\n",
       " 'Brad Peyton': [3, 3],\n",
       " 'Sam Taylor-Johnson': [1, 1],\n",
       " 'Adam McKay': [6, 6],\n",
       " 'Christopher McQuarrie': [2, 2],\n",
       " 'Seth MacFarlane': [2, 2],\n",
       " 'Matthew Vaughn': [4, 4],\n",
       " 'Tom McCarthy': [1, 1],\n",
       " 'Wes Ball': [2, 2],\n",
       " 'Neill Blomkamp': [3, 3],\n",
       " 'Elizabeth Banks': [2, 2],\n",
       " 'Steven Spielberg': [10, 10],\n",
       " 'Rob Letterman': [4, 4],\n",
       " 'Lenny Abrahamson': [1, 1],\n",
       " 'Peter Sohn': [1, 1],\n",
       " 'Jaume Collet-Serra': [5, 5],\n",
       " 'John Crowley': [1, 1],\n",
       " 'F. Gary Gray': [5, 5],\n",
       " 'Breck Eisner': [3, 2],\n",
       " 'Guy Ritchie': [5, 5],\n",
       " 'Lee Toland Krieger': [1, 1],\n",
       " 'Ilya Naishuller': [1, 1],\n",
       " 'Tim Johnson': [2, 2],\n",
       " 'Jake Schreier': [1, 1],\n",
       " 'Todd Haynes': [3, 2],\n",
       " 'Nancy Meyers': [5, 5],\n",
       " 'Baltasar KormÃ¡kur': [3, 3],\n",
       " 'Ericson Core': [1, 1],\n",
       " 'John Wells': [3, 2],\n",
       " 'Tarsem Singh': [4, 4],\n",
       " 'David Koepp': [3, 1],\n",
       " 'Tom Hooper': [3, 3],\n",
       " 'Michael Mann': [5, 3],\n",
       " 'Denis Villeneuve': [2, 2],\n",
       " 'Josh Trank': [2, 2],\n",
       " 'Paul Feig': [3, 3],\n",
       " 'Glenn Ficarra': [3, 2],\n",
       " 'John Requa': [3, 2],\n",
       " 'Aleksander Bach': [1, 1],\n",
       " 'Ron Howard': [8, 6],\n",
       " 'Ryan Coogler': [1, 1],\n",
       " 'Judd Apatow': [5, 4],\n",
       " 'Gavin Hood': [4, 3],\n",
       " 'Brian Helgeland': [4, 3],\n",
       " 'Joe Wright': [5, 3],\n",
       " 'Steve Martino': [3, 3],\n",
       " 'Peter Landesman': [1, 1],\n",
       " 'Jonathan Levine': [3, 3],\n",
       " 'George Tillman, Jr.': [2, 2],\n",
       " 'Genndy Tartakovsky': [2, 2],\n",
       " 'Jessie Nelson': [2, 2],\n",
       " 'Robert Zemeckis': [6, 6],\n",
       " 'John Francis Daley': [1, 1],\n",
       " 'Jonathan M. Goldstein': [1, 1],\n",
       " 'Gil Kenan': [3, 2],\n",
       " 'Daniel Espinosa': [2, 1],\n",
       " 'Joel Edgerton': [1, 1],\n",
       " 'Sean Anders': [3, 2],\n",
       " 'Mark Osborne': [2, 2],\n",
       " 'Jocelyn Moorhouse': [1, 1],\n",
       " 'Ari Sandel': [1, 1],\n",
       " 'Ciaran Foy': [1, 1],\n",
       " 'Andy Fickman': [6, 6],\n",
       " 'Doug Ellin': [1, 1],\n",
       " 'Jeremy Garelick': [1, 1],\n",
       " 'M. Night Shyamalan': [8, 7],\n",
       " 'Scott Cooper': [3, 2],\n",
       " 'Michael Dougherty': [1, 1],\n",
       " 'John Erick Dowdle': [4, 4],\n",
       " 'Simon Curtis': [2, 2],\n",
       " 'Jason Moore': [2, 2],\n",
       " 'Dean Israelite': [1, 1],\n",
       " 'Camille Delamarre': [2, 2],\n",
       " 'Guillermo del Toro': [5, 5],\n",
       " 'Gregory Jacobs': [1, 1],\n",
       " 'Gregory Plotkin': [1, 1],\n",
       " 'Jay Roach': [5, 4],\n",
       " 'Billy Ray': [1, 1],\n",
       " 'Paul Tibbitt': [1, 1],\n",
       " 'Boaz Yakin': [4, 4],\n",
       " 'Pierre Morel': [3, 1],\n",
       " 'Anne Fletcher': [4, 4],\n",
       " 'Leigh Whannell': [1, 1],\n",
       " 'Nicholas Hytner': [1, 1],\n",
       " 'Paul McGuigan': [4, 2],\n",
       " 'Jonathan Demme': [2, 2],\n",
       " 'David M. Rosenthal': [1, 1],\n",
       " 'Noah Baumbach': [1, 0],\n",
       " 'Etan Cohen': [1, 1],\n",
       " 'Sarah Gavron': [1, 1],\n",
       " 'Max Joseph': [1, 1],\n",
       " 'Alejandro Monteverde': [1, 0],\n",
       " 'Cameron Crowe': [5, 2],\n",
       " 'David Gordon Green': [4, 2],\n",
       " 'Barry Levinson': [4, 1],\n",
       " 'Ken Kwapis': [5, 4],\n",
       " 'Ken Scott': [2, 1],\n",
       " 'Mike Binder': [2, 2],\n",
       " 'Jon M. Chu': [4, 3],\n",
       " 'Christopher Nolan': [8, 8],\n",
       " 'James Gunn': [2, 2],\n",
       " 'Joe Russo': [2, 2],\n",
       " 'Anthony Russo': [2, 2],\n",
       " 'Chad Stahelski': [1, 1],\n",
       " 'David Leitch': [1, 1],\n",
       " 'Peter Jackson': [8, 8],\n",
       " 'Don Hall': [2, 1],\n",
       " 'Chris Williams': [2, 2],\n",
       " 'Morten Tyldum': [1, 1],\n",
       " 'David Fincher': [6, 6],\n",
       " 'David Ayer': [4, 3],\n",
       " 'Shawn Levy': [10, 9],\n",
       " 'Neil Burger': [3, 3],\n",
       " 'Bryan Singer': [5, 5],\n",
       " 'Luc Besson': [2, 2],\n",
       " 'Jonathan Liebesman': [3, 3],\n",
       " 'Jake Kasdan': [3, 2],\n",
       " 'Dan Gilroy': [1, 1],\n",
       " 'Michael Bay': [8, 8],\n",
       " 'Wes Anderson': [5, 4],\n",
       " 'Matt Reeves': [3, 3],\n",
       " 'Marc Webb': [3, 3],\n",
       " 'Doug Liman': [5, 5],\n",
       " 'Evan Goldberg': [2, 1],\n",
       " 'Seth Rogen': [2, 1],\n",
       " 'Clint Eastwood': [12, 10],\n",
       " 'Gareth Edwards': [1, 1],\n",
       " 'Robert Stromberg': [1, 1],\n",
       " 'Roger Donaldson': [3, 1],\n",
       " 'Stiles White': [1, 1],\n",
       " 'Dean DeBlois': [3, 3],\n",
       " 'Patrick Hughes': [1, 1],\n",
       " 'Phil Lord': [4, 4],\n",
       " 'Christopher Miller': [4, 4],\n",
       " 'Sergey Bodrov': [1, 1],\n",
       " 'James Marsh': [1, 1],\n",
       " 'Luke Greenfield': [4, 4],\n",
       " 'Gary Shore': [1, 1],\n",
       " 'Simon J. Smith': [2, 2],\n",
       " 'Eric Darnell': [4, 4],\n",
       " 'Rob Marshall': [4, 4],\n",
       " 'Noam Murro': [2, 2],\n",
       " 'Phillip Noyce': [2, 2],\n",
       " 'Scott Frank': [2, 1],\n",
       " 'Paul King': [1, 1],\n",
       " 'Daniel Barnz': [2, 1],\n",
       " 'Jon Favreau': [5, 5],\n",
       " 'James DeMonaco': [1, 1],\n",
       " 'Vic Armstrong': [1, 1],\n",
       " 'J.C. Chandor': [2, 0],\n",
       " 'Brett Ratner': [8, 8],\n",
       " 'Darren Aronofsky': [4, 3],\n",
       " 'David Dobkin': [5, 4],\n",
       " 'Frank Coraci': [4, 3],\n",
       " 'Nicholas Stoller': [4, 4],\n",
       " 'R.J. Cutler': [1, 1],\n",
       " 'Trish Sie': [1, 1],\n",
       " 'Josh Boone': [1, 1],\n",
       " 'Tim Story': [6, 6],\n",
       " 'Paul Thomas Anderson': [3, 1],\n",
       " 'Michael Spierig': [2, 1],\n",
       " 'Peter Spierig': [2, 1],\n",
       " 'JosÃ© Padilha': [1, 1],\n",
       " 'Wally Pfister': [1, 1],\n",
       " 'Nick Cassavetes': [4, 4],\n",
       " 'Rob Minkoff': [4, 4],\n",
       " 'Frank Miller': [3, 1],\n",
       " 'Robert Rodriguez': [11, 8],\n",
       " 'Carlos Saldanha': [5, 5],\n",
       " 'Bobby Farrelly': [9, 7],\n",
       " 'Peter Farrelly': [10, 8],\n",
       " 'George Clooney': [4, 4],\n",
       " 'Angelina Jolie': [1, 1],\n",
       " 'Ava DuVernay': [1, 1],\n",
       " 'Paul W.S. Anderson': [7, 6],\n",
       " 'Michael Hoffman': [1, 1],\n",
       " 'Will Gluck': [3, 3],\n",
       " 'Theodore Melfi': [1, 1],\n",
       " 'Scott Waugh': [2, 2],\n",
       " 'Lasse HallstrÃ¶m': [7, 5],\n",
       " 'Graham Annable': [1, 1],\n",
       " 'Anthony Stacchi': [2, 2],\n",
       " 'Tim Burton': [9, 9],\n",
       " 'Brian A Miller': [1, 1],\n",
       " 'Steven Quale': [2, 2],\n",
       " 'Roberts Gannaway': [1, 1],\n",
       " 'Sam Miller': [1, 1],\n",
       " 'Bennett Miller': [3, 2],\n",
       " 'Shana Feste': [2, 2],\n",
       " 'David MichÃ´d': [1, 0],\n",
       " 'Saul Dibb': [1, 0],\n",
       " 'John R. Leonetti': [1, 1],\n",
       " 'Stuart Beattie': [2, 1],\n",
       " 'Tom Gormican': [1, 1],\n",
       " 'Ben Falcone': [1, 1],\n",
       " 'Akiva Goldsman': [1, 0],\n",
       " 'Adam Wingard': [1, 0],\n",
       " 'Russell Crowe': [1, 0],\n",
       " 'Miguel Arteta': [2, 2],\n",
       " 'Steve Pink': [3, 3],\n",
       " 'Craig Gillespie': [2, 2],\n",
       " 'Jonathan Glazer': [1, 0],\n",
       " 'Rob Thomas': [1, 0],\n",
       " 'Christopher Spencer': [1, 1],\n",
       " 'Thomas Carter': [3, 3],\n",
       " 'GrÃ©gory Levasseur': [1, 1],\n",
       " 'Michael Cuesta': [1, 0],\n",
       " 'Charles Martin Smith': [2, 2],\n",
       " 'James Bobin': [2, 2],\n",
       " 'Randall Wallace': [3, 3],\n",
       " 'Renny Harlin': [5, 1],\n",
       " 'Andrew Erwin': [1, 1],\n",
       " 'Jon Erwin': [1, 1],\n",
       " 'Dave Green': [1, 1],\n",
       " 'Rupert Wyatt': [2, 2],\n",
       " 'Don McKellar': [1, 0],\n",
       " 'Harold Cronk': [1, 1],\n",
       " 'Matt Bettinelli-Olpin': [1, 1],\n",
       " 'Tyler Gillett': [1, 1],\n",
       " 'James Cameron': [2, 2],\n",
       " 'Patrick Tatopoulos': [1, 1],\n",
       " 'David Yates': [4, 4],\n",
       " 'Bob Peterson': [1, 1],\n",
       " 'McG': [4, 3],\n",
       " 'Todd Phillips': [8, 7],\n",
       " 'Zack Snyder': [6, 6],\n",
       " 'Roland Emmerich': [5, 5],\n",
       " 'Shane Acker': [1, 1],\n",
       " 'Ron Clements': [2, 1],\n",
       " 'John Musker': [2, 1],\n",
       " 'John Lee Hancock': [4, 3],\n",
       " 'Ruben Fleischer': [3, 3],\n",
       " 'Chris Weitz': [3, 3],\n",
       " 'Stephen Sommers': [3, 3],\n",
       " 'Robert Luketic': [6, 5],\n",
       " 'Henry Selick': [2, 1],\n",
       " 'Burr Steers': [3, 2],\n",
       " 'Steve Carr': [6, 5],\n",
       " 'Richard Kelly': [1, 1],\n",
       " 'Mark Neveldine': [4, 3],\n",
       " 'Brian Taylor': [4, 3],\n",
       " 'Christian Alvart': [2, 1],\n",
       " 'Sam Raimi': [6, 6],\n",
       " 'Alex Proyas': [2, 2],\n",
       " 'Duncan Jones': [2, 2],\n",
       " 'Hoyt Yeatman': [1, 1],\n",
       " 'Tony Scott': [6, 5],\n",
       " 'Ricky Gervais': [1, 1],\n",
       " 'Matthew Robinson': [1, 1],\n",
       " 'P.J. Hogan': [2, 2],\n",
       " 'Jaco Van Dormael': [1, 0],\n",
       " 'Peter Billingsley': [1, 1],\n",
       " 'Jim Sheridan': [3, 2],\n",
       " 'John Hillcoat': [2, 1],\n",
       " 'Conrad Vernon': [3, 3],\n",
       " 'Nora Ephron': [2, 2],\n",
       " 'Atom Egoyan': [1, 0],\n",
       " 'Karyn Kusama': [2, 1],\n",
       " 'Phil Traill': [1, 1],\n",
       " 'David R. Ellis': [5, 4],\n",
       " 'Betty Thomas': [3, 2],\n",
       " 'Gary Winick': [2, 2],\n",
       " 'Lee Daniels': [2, 2],\n",
       " 'Kevin Macdonald': [3, 3],\n",
       " 'David S. Goyer': [3, 2],\n",
       " 'John Hamburg': [2, 2],\n",
       " 'Steven Soderbergh': [13, 10],\n",
       " 'Richard Curtis': [2, 1],\n",
       " 'Brandon Camp': [1, 1],\n",
       " 'Kevin Greutert': [2, 2],\n",
       " 'Jean-Marc VallÃ©e': [2, 1],\n",
       " 'Ethan Coen': [4, 4],\n",
       " 'Joel Coen': [6, 6],\n",
       " 'David Twohy': [4, 4],\n",
       " 'Dominic Sena': [4, 3],\n",
       " 'Rajkumar Hirani': [1, 1],\n",
       " 'Grant Heslov': [1, 1],\n",
       " 'James McTeigue': [4, 3],\n",
       " 'Todd Graff': [1, 0],\n",
       " 'Brad Silberling': [2, 1],\n",
       " 'Jorge Blanco': [1, 1],\n",
       " 'Javier Abad': [1, 1],\n",
       " 'Marcos MartÃ\\xadnez': [1, 1],\n",
       " 'Harold Ramis': [2, 2],\n",
       " 'Patrick Lussier': [3, 2],\n",
       " 'Walt Becker': [2, 2],\n",
       " 'Alejandro AmenÃ¡bar': [2, 1],\n",
       " 'Troy Duffy': [1, 1],\n",
       " 'Werner Herzog': [2, 0],\n",
       " 'NimrÃ³d Antal': [4, 3],\n",
       " 'Paul Weitz': [5, 3],\n",
       " 'Lone Scherfig': [2, 2],\n",
       " 'Jason Reitman': [4, 4],\n",
       " 'David Bowers': [4, 2],\n",
       " 'Tom Tykwer': [3, 3],\n",
       " 'Justin Lin': [5, 4],\n",
       " 'Michael Moore': [3, 2],\n",
       " 'Rob Zombie': [4, 3],\n",
       " 'Peter Chelsom': [3, 3],\n",
       " 'John Schultz': [1, 1],\n",
       " 'Olatunde Osunsanmi': [1, 1],\n",
       " 'Brian Koppelman': [2, 0],\n",
       " 'David Levien': [2, 0],\n",
       " 'Tony Gilroy': [3, 2],\n",
       " 'Jane Campion': [1, 0],\n",
       " 'Greg Mottola': [3, 3],\n",
       " 'Mike Judge': [1, 1],\n",
       " 'Donald Petrie': [4, 4],\n",
       " 'Marcus Nispel': [4, 2],\n",
       " 'Daniel Barber': [1, 1],\n",
       " 'Jonathan Mostow': [3, 3],\n",
       " 'Andrzej Bartkowiak': [5, 3],\n",
       " 'Thor Freudenthal': [3, 3],\n",
       " 'Steve Shill': [1, 1],\n",
       " 'Michael J. Bassett': [2, 1],\n",
       " 'Jonas Elmer': [1, 1],\n",
       " 'Richard Linklater': [4, 2],\n",
       " 'Stewart Hendler': [2, 1],\n",
       " 'Derrick Borte': [1, 0],\n",
       " 'Vicky Jenson': [3, 2],\n",
       " 'Marc Lawrence': [3, 3],\n",
       " 'Toby Wilkins': [1, 1],\n",
       " 'Bruce Beresford': [2, 0],\n",
       " 'Chris Renaud': [3, 3],\n",
       " 'Sylvester Stallone': [3, 3],\n",
       " 'Chris Sanders': [3, 3],\n",
       " 'Martin Scorsese': [6, 5],\n",
       " 'Joseph Kosinski': [2, 2],\n",
       " 'Nathan Greno': [1, 1],\n",
       " 'Byron Howard': [2, 2],\n",
       " 'Lee Unkrich': [3, 3],\n",
       " 'Danny Boyle': [6, 5],\n",
       " 'Michael Apted': [2, 2],\n",
       " 'Florian Henckel von Donnersmarck': [1, 1],\n",
       " 'Mike Newell': [3, 2],\n",
       " 'Louis Leterrier': [6, 6],\n",
       " 'Jon Turteltaub': [5, 5],\n",
       " 'Edgar Wright': [2, 0],\n",
       " 'Mike Mitchell': [3, 3],\n",
       " 'Joe Carnahan': [3, 3],\n",
       " 'Ethan Maniquis': [1, 1],\n",
       " 'Dennis Dugan': [7, 6],\n",
       " 'Albert Hughes': [2, 2],\n",
       " 'Allen Hughes': [3, 2],\n",
       " 'Ben Affleck': [3, 3],\n",
       " 'David Slade': [2, 2],\n",
       " 'Tom McGrath': [4, 4],\n",
       " 'Edward Zwick': [4, 4],\n",
       " 'Peter Weir': [2, 1],\n",
       " 'Miguel Sapochnik': [1, 0],\n",
       " 'James Mangold': [5, 5],\n",
       " 'Ryan Murphy': [1, 1],\n",
       " 'Andy Tennant': [4, 4],\n",
       " 'Anand Tucker': [1, 1],\n",
       " 'Paul Greengrass': [5, 4],\n",
       " 'Alan Poul': [1, 1],\n",
       " 'Josh Gordon': [1, 1],\n",
       " 'Will Speck': [1, 1],\n",
       " 'Floria Sigismondi': [1, 0],\n",
       " 'Garry Marshall': [4, 4],\n",
       " 'Troy Nixey': [1, 1],\n",
       " 'Harald Zwart': [3, 3],\n",
       " 'Jonathan Lynn': [2, 1],\n",
       " 'Roman Polanski': [3, 3],\n",
       " 'Paul Haggis': [3, 3],\n",
       " 'Samuel Bayer': [1, 1],\n",
       " 'David O. Russell': [3, 2],\n",
       " 'Jimmy Hayward': [3, 2],\n",
       " 'Jason Friedberg': [5, 4],\n",
       " 'Aaron Seltzer': [5, 4],\n",
       " 'Scott Stewart': [2, 2],\n",
       " 'Michael Patrick King': [2, 2],\n",
       " 'Susanna White': [1, 1],\n",
       " 'John Luessenhop': [2, 2],\n",
       " 'Steve Antin': [1, 1],\n",
       " 'Nanette Burstein': [1, 1],\n",
       " 'Mark Romanek': [2, 1],\n",
       " 'Kevin Smith': [4, 4],\n",
       " 'Greg Berlanti': [1, 1],\n",
       " 'Neil Marshall': [2, 0],\n",
       " 'John Curran': [1, 0],\n",
       " 'Alexandre Aja': [3, 3],\n",
       " 'Roger Michell': [2, 2],\n",
       " 'Tony Goldwyn': [1, 0],\n",
       " 'Michael Lembeck': [3, 2],\n",
       " 'Colin Strause': [1, 1],\n",
       " 'Greg Strause': [1, 1],\n",
       " 'John Madden': [3, 2],\n",
       " 'Jorma Taccone': [1, 0],\n",
       " 'James L. Brooks': [2, 0],\n",
       " 'Brian Levant': [3, 2],\n",
       " 'Jim Field Smith': [1, 1],\n",
       " 'William Monahan': [1, 0],\n",
       " 'Wes Craven': [5, 3],\n",
       " 'Robert Redford': [3, 1],\n",
       " 'Neil LaBute': [3, 2],\n",
       " 'Tom Dey': [3, 2],\n",
       " 'Oliver Stone': [5, 5],\n",
       " 'Dan Rush': [1, 0],\n",
       " 'Anthony Bell': [1, 1],\n",
       " 'Ben Gluck': [1, 1],\n",
       " 'Eric Brevig': [2, 2],\n",
       " 'Tom Vaughan': [2, 1],\n",
       " 'Richard J. Lewis': [1, 0],\n",
       " 'Martin Campbell': [5, 4],\n",
       " 'Roger Kumble': [2, 2],\n",
       " 'Kevin Munroe': [2, 1],\n",
       " 'William Dear': [1, 0],\n",
       " 'Sngmoo Lee': [1, 0],\n",
       " 'John Landis': [1, 0],\n",
       " 'Tyler Perry': [3, 3],\n",
       " 'Vipul Amrutlal Shah': [1, 0],\n",
       " 'David Lynch': [1, 1],\n",
       " 'David Silverman': [2, 2],\n",
       " 'Andrew Adamson': [4, 4],\n",
       " 'Sharon Maguire': [1, 1],\n",
       " 'Gary Trousdale': [1, 1],\n",
       " 'Kirk Wise': [1, 1],\n",
       " 'Simon West': [5, 4],\n",
       " 'J.B. Rogers': [1, 1],\n",
       " 'Baz Luhrmann': [3, 2],\n",
       " 'Ted Demme': [1, 1],\n",
       " 'Jean-Jacques Annaud': [2, 1],\n",
       " 'Ben Stiller': [3, 3],\n",
       " 'Joel Gallen': [1, 1],\n",
       " 'Keenen Ivory Wayans': [4, 4],\n",
       " 'John A. Davis': [2, 2],\n",
       " 'Lawrence Guterman': [1, 1],\n",
       " 'Chris Nahon': [1, 1],\n",
       " 'Peter Howitt': [2, 1],\n",
       " 'Hironobu Sakaguchi': [1, 0],\n",
       " 'Motonori Sakakibara': [1, 0],\n",
       " 'Michael Cristofer': [1, 0],\n",
       " 'John Moore': [5, 4],\n",
       " 'Victor Salva': [2, 2],\n",
       " 'Rod Lurie': [2, 0],\n",
       " 'Lee Tamahori': [5, 2],\n",
       " 'Adam Shankman': [8, 7],\n",
       " 'Jerry Zucker': [1, 1],\n",
       " 'Robert Altman': [1, 1],\n",
       " 'James Isaac': [1, 1],\n",
       " 'Gore Verbinski': [8, 6],\n",
       " 'John Dahl': [2, 1],\n",
       " 'Stephen Herek': [1, 0],\n",
       " 'Iain Softley': [3, 2],\n",
       " 'Gary Fleder': [4, 3],\n",
       " 'Simon Wincer': [1, 1],\n",
       " 'Bill Paxton': [2, 1],\n",
       " 'Luis Mandoki': [2, 0],\n",
       " 'Scott Hicks': [2, 1],\n",
       " 'Daniel Sackheim': [1, 0],\n",
       " 'John Herzfeld': [1, 0],\n",
       " 'Brian Robbins': [6, 3],\n",
       " 'Ivan Reitman': [2, 2],\n",
       " 'Frank Oz': [2, 2],\n",
       " 'Dennie Gordon': [1, 1],\n",
       " 'John Boorman': [1, 1],\n",
       " \"Pat O'Connor\": [1, 1],\n",
       " 'Jesse Dylan': [3, 3],\n",
       " 'Gregory Poirier': [1, 1],\n",
       " 'Frank Darabont': [2, 1],\n",
       " 'Demian Lichtenstein': [1, 0],\n",
       " 'John Carpenter': [1, 0],\n",
       " 'Penny Marshall': [1, 0],\n",
       " 'Mark Waters': [5, 4],\n",
       " 'Rob Cohen': [6, 4],\n",
       " 'John Stockwell': [3, 2],\n",
       " 'Brendan Malloy': [1, 0],\n",
       " 'Emmett Malloy': [1, 0],\n",
       " 'Les Mayfield': [1, 0],\n",
       " 'Harold Becker': [1, 0],\n",
       " 'Mike Tollin': [2, 1],\n",
       " 'Tim Hill': [3, 3],\n",
       " 'Rob Pritts': [1, 1],\n",
       " 'Joe Johnston': [3, 3],\n",
       " 'Peter Hyams': [2, 0],\n",
       " 'Peter Bogdanovich': [1, 0],\n",
       " 'Francine McDougall': [1, 1],\n",
       " 'Ernest R. Dickerson': [1, 0],\n",
       " 'DJ Pooh': [1, 1],\n",
       " 'John Singleton': [5, 5],\n",
       " 'Andrew Stanton': [3, 3],\n",
       " 'Catherine Hardwicke': [3, 2],\n",
       " 'Marc Forster': [7, 5],\n",
       " 'John Stevenson': [1, 1],\n",
       " 'Phyllida Lloyd': [2, 2],\n",
       " 'Timur Bekmambetov': [2, 2],\n",
       " 'Loveleen Tandan': [1, 1],\n",
       " 'Peter Berg': [6, 5],\n",
       " 'Kathryn Bigelow': [3, 2],\n",
       " 'D.J. Caruso': [5, 4],\n",
       " 'Mark Herman': [1, 1],\n",
       " 'Scott Derrickson': [2, 2],\n",
       " 'Gabriele Muccino': [2, 2],\n",
       " 'David Frankel': [4, 3],\n",
       " 'Jeff Wadlow': [1, 1],\n",
       " 'Lexi Alexander': [1, 0],\n",
       " 'Pete Travis': [2, 1],\n",
       " 'Peter Segal': [6, 6],\n",
       " 'David Wain': [2, 1],\n",
       " 'Mathieu Kassovitz': [2, 2],\n",
       " 'Martin McDonagh': [2, 2],\n",
       " 'Jon Hurwitz': [2, 2],\n",
       " 'Hayden Schlossberg': [2, 2],\n",
       " 'Peter Sollett': [1, 1],\n",
       " 'Seth Gordon': [3, 3],\n",
       " 'Fred Wolf': [1, 1],\n",
       " 'David Hackl': [1, 1],\n",
       " 'Marco Schnabel': [1, 0],\n",
       " 'Woody Allen': [3, 3],\n",
       " 'Jon Avnet': [2, 1],\n",
       " 'Brad Anderson': [3, 2],\n",
       " 'Gregory Hoblit': [3, 1],\n",
       " 'Bryan Bertino': [1, 1],\n",
       " 'Gus Van Sant': [3, 2],\n",
       " 'Howard McCain': [1, 0],\n",
       " 'Chris Carter': [1, 1],\n",
       " 'John Patrick Shanley': [1, 1],\n",
       " 'Paul Weiland': [1, 1],\n",
       " 'Marcel Langenegger': [1, 0],\n",
       " 'David Moreau': [1, 1],\n",
       " 'Xavier Palud': [1, 1],\n",
       " 'Oxide Pang Chun': [1, 0],\n",
       " 'Danny Pang': [1, 0],\n",
       " 'GÃ¡bor CsupÃ³': [2, 1],\n",
       " 'Peter Cattaneo': [1, 0],\n",
       " 'Robert Stevenhagen': [1, 0],\n",
       " 'Sam Fell': [3, 1],\n",
       " 'Craig Mazin': [1, 0],\n",
       " 'Gina Prince-Bythewood': [2, 2],\n",
       " 'Raja Gosnell': [6, 6],\n",
       " 'Michael McCullers': [1, 1],\n",
       " 'Julian Jarrold': [2, 1],\n",
       " 'Rian Johnson': [2, 1],\n",
       " 'Kirk De Micco': [2, 2],\n",
       " 'Howard Deutch': [2, 1],\n",
       " 'RyÃ»hei Kitamura': [1, 0],\n",
       " 'Simon Hunter': [1, 0],\n",
       " 'Joshua Michael Stern': [2, 1],\n",
       " 'Jennifer Flackett': [1, 1],\n",
       " 'Mark Levin': [1, 1],\n",
       " 'Anthony Leondis': [1, 1],\n",
       " 'Robert B. Weide': [1, 0],\n",
       " 'Malcolm D. Lee': [4, 4],\n",
       " 'Nicolas Winding Refn': [1, 1],\n",
       " 'Andrew Niccol': [3, 2],\n",
       " 'Jennifer Yuh': [1, 1],\n",
       " 'John Lasseter': [2, 2],\n",
       " 'Brad Lewis': [1, 1],\n",
       " 'Bill Condon': [4, 3],\n",
       " 'Terrence Malick': [1, 1],\n",
       " 'Michel Hazanavicius': [1, 1],\n",
       " 'Brad Furman': [2, 2],\n",
       " 'Gary McKendry': [1, 0],\n",
       " 'Mikael HÃ¥fstrÃ¶m': [4, 4],\n",
       " 'Stephen Anderson': [1, 0],\n",
       " 'George Nolfi': [1, 1],\n",
       " 'Tom Hanks': [1, 1],\n",
       " 'Mark Mylod': [1, 1],\n",
       " 'Chris Gorak': [1, 1],\n",
       " 'Tate Taylor': [1, 1],\n",
       " 'Christian E. Christiansen': [1, 1],\n",
       " 'Chris Miller': [2, 2],\n",
       " 'Michel Gondry': [2, 2],\n",
       " 'Oliver Parker': [1, 1],\n",
       " 'Todd Strauss-Schulson': [1, 1],\n",
       " 'Matthijs van Heijningen Jr.': [1, 0],\n",
       " 'Gonzalo LÃ³pez-Gallego': [1, 1],\n",
       " 'Simon Wells': [2, 1],\n",
       " 'Joe Cornish': [1, 0],\n",
       " 'Stephen Daldry': [3, 3],\n",
       " 'Kelly Asbury': [3, 3],\n",
       " 'Alexander Payne': [4, 4],\n",
       " 'Bruce Robinson': [1, 0],\n",
       " 'John Michael McDonagh': [1, 1],\n",
       " 'Jesse Peretz': [1, 1],\n",
       " 'Craig Brewer': [3, 2],\n",
       " 'Joel Schumacher': [5, 3],\n",
       " 'Henry Joost': [2, 2],\n",
       " 'Ariel Schulman': [2, 2],\n",
       " 'Michael Dowse': [2, 0],\n",
       " 'Jason Winer': [1, 1],\n",
       " 'Alister Grierson': [1, 1],\n",
       " 'Douglas McGrath': [1, 1],\n",
       " 'David Cronenberg': [4, 3],\n",
       " 'Sean McNamara': [1, 1],\n",
       " 'Mike Disa': [1, 0],\n",
       " 'Joe Nussbaum': [2, 1],\n",
       " 'William Friedkin': [3, 1],\n",
       " 'John Whitesell': [2, 2],\n",
       " 'Benny Chan': [1, 1],\n",
       " 'Salim Akil': [2, 2],\n",
       " 'Thomas Bezucha': [1, 0],\n",
       " 'Paul Johansson': [1, 0],\n",
       " 'Paolo Sorrentino': [1, 0],\n",
       " 'Rodrigo GarcÃ\\xada': [1, 0],\n",
       " 'Mark Duplass': [1, 0],\n",
       " 'Jay Duplass': [1, 0],\n",
       " 'Chris Wedge': [3, 3],\n",
       " 'George Lucas': [2, 2],\n",
       " 'Barry Sonnenfeld': [4, 3],\n",
       " 'Corey Yuen Kwai': [1, 1],\n",
       " 'Wayne Wang': [3, 2],\n",
       " 'Curtis Hanson': [1, 1],\n",
       " 'Steven Brill': [3, 3],\n",
       " 'Joel Zwick': [1, 1],\n",
       " 'Andrew Davis': [2, 0],\n",
       " 'Stuart Baird': [1, 1],\n",
       " 'Kurt Wimmer': [1, 0],\n",
       " 'Steve Beck': [1, 1],\n",
       " 'Lorna Cook': [1, 1],\n",
       " 'Jim Gillespie': [1, 0],\n",
       " 'Chuck Russell': [1, 1],\n",
       " 'Jeff Tremaine': [3, 3],\n",
       " 'Julie Taymor': [1, 1],\n",
       " 'Barbet Schroeder': [1, 1],\n",
       " 'Spike Jonze': [2, 2],\n",
       " 'Ron Shelton': [1, 0],\n",
       " 'Walter Hill': [3, 0],\n",
       " 'John Woo': [3, 2],\n",
       " 'Adrian Lyne': [1, 1],\n",
       " 'Michael Rymer': [1, 1],\n",
       " 'Marcus Raboy': [1, 1],\n",
       " 'Robin Budd': [1, 1],\n",
       " 'Donovan Cook': [1, 1],\n",
       " 'Dewey Nicks': [1, 0],\n",
       " 'Brian De Palma': [2, 0],\n",
       " 'Michael Caton-Jones': [2, 0],\n",
       " 'Rob Bowman': [2, 1],\n",
       " 'Carl Franklin': [2, 2],\n",
       " 'Shekhar Kapur': [2, 1],\n",
       " 'Mark Pellington': [1, 1],\n",
       " 'Jonathan Frakes': [1, 1],\n",
       " 'Rick Rosenthal': [1, 1],\n",
       " 'Denzel Washington': [2, 2],\n",
       " 'Mort Nathan': [1, 0],\n",
       " 'Tamra Davis': [1, 1],\n",
       " 'Ron Underwood': [1, 0],\n",
       " 'Stephen Gaghan': [2, 1],\n",
       " 'Reginald Hudlin': [2, 0],\n",
       " 'Tom Shadyac': [3, 1],\n",
       " 'Charles Stone III': [2, 1],\n",
       " 'Kevin Bray': [1, 1],\n",
       " 'William Malone': [1, 0],\n",
       " 'Paul Schrader': [1, 0],\n",
       " 'MÃ¥ns MÃ¥rlind': [1, 1],\n",
       " 'BjÃ¶rn Stein': [1, 1],\n",
       " 'Mark Andrews': [1, 1],\n",
       " 'Steve Purcell': [1, 1],\n",
       " 'Brenda Chapman': [1, 1],\n",
       " 'Rupert Sanders': [1, 1],\n",
       " 'Ang Lee': [3, 3],\n",
       " 'Mike Thurmeier': [1, 1],\n",
       " 'Juan Antonio Bayona': [1, 1],\n",
       " 'Rich Moore': [1, 1],\n",
       " 'Gary Ross': [2, 2],\n",
       " 'Len Wiseman': [4, 4],\n",
       " 'Stephen Chbosky': [1, 1],\n",
       " 'Drew Goddard': [1, 1],\n",
       " 'Peter Ramsey': [1, 1],\n",
       " 'Michael Sucsy': [1, 1],\n",
       " 'Juan Diego Solanas': [1, 0],\n",
       " 'Scott Speer': [1, 1],\n",
       " 'Mike McCoy': [1, 1],\n",
       " 'Kirk Jones': [2, 2],\n",
       " 'Larry Charles': [2, 2],\n",
       " 'Nima Nourizadeh': [1, 1],\n",
       " 'Peter Lord': [2, 2],\n",
       " 'Jeff Newitt': [1, 1],\n",
       " 'Stephen St. Leger': [1, 1],\n",
       " 'James Mather': [1, 1],\n",
       " 'James Watkins': [1, 1],\n",
       " 'Asger Leth': [1, 1],\n",
       " 'Henry Alex Rubin': [1, 0],\n",
       " 'Alex Kurtzman': [1, 0],\n",
       " 'John Gulager': [1, 1],\n",
       " 'Ole Bornedal': [1, 1],\n",
       " 'Andrew Dominik': [2, 1],\n",
       " 'Mabrouk El Mechri': [1, 0],\n",
       " 'Nicholas Jarecki': [1, 1],\n",
       " 'Dan Bradley': [1, 0],\n",
       " 'Julie Anne Robinson': [1, 0],\n",
       " 'Dustin Hoffman': [1, 1],\n",
       " 'Chris Butler': [1, 1],\n",
       " 'Dean Wright': [1, 0],\n",
       " 'Anthony Hemingway': [1, 0],\n",
       " 'Josh Schwartz': [1, 0],\n",
       " 'Brian Klugman': [1, 1],\n",
       " 'Lee Sternthal': [1, 1],\n",
       " 'Walter Salles': [2, 0],\n",
       " 'David Barrett': [1, 0],\n",
       " 'Todd Lincoln ': [1, 0],\n",
       " 'Dan Cutforth': [1, 1],\n",
       " 'Jane Lipsitz': [1, 1],\n",
       " 'Mark Steven Johnson': [2, 2],\n",
       " 'Stephen Norrington': [1, 1],\n",
       " 'Steve Trenbirth': [1, 1],\n",
       " 'Terry Zwigoff': [1, 1],\n",
       " 'David Zucker': [2, 2],\n",
       " 'Bille Woodruff': [2, 2],\n",
       " 'Jan de Bont': [1, 1],\n",
       " 'Rob Schmidt': [1, 1],\n",
       " 'Jon Amiel': [1, 1],\n",
       " 'Clark Johnson': [2, 2],\n",
       " 'Charles Herman-Wurmfeld': [1, 1],\n",
       " 'Richard Donner': [2, 1],\n",
       " 'Anthony Minghella': [1, 1],\n",
       " 'Ronny Yu': [1, 1],\n",
       " 'Joe Dante': [1, 0],\n",
       " 'John McTiernan': [1, 0],\n",
       " 'Kevin Costner': [1, 1],\n",
       " 'Jim Fall': [1, 1],\n",
       " 'Lawrence Kasdan': [1, 1],\n",
       " 'Patty Jenkins': [1, 1],\n",
       " 'Martin Brest': [1, 0],\n",
       " 'Ronald F. Maxwell': [1, 0],\n",
       " 'Troy Miller': [1, 1],\n",
       " 'Alan Parker': [1, 0],\n",
       " 'Uwe Boll': [3, 1],\n",
       " 'Chris Koch': [1, 0],\n",
       " 'David Mackenzie': [1, 0],\n",
       " 'FranÃ§ois Ozon': [1, 1],\n",
       " 'Christopher Guest': [1, 1],\n",
       " 'Nigel Cole': [2, 2],\n",
       " 'James Cox': [1, 0],\n",
       " 'Rob Reiner': [3, 2],\n",
       " 'Robert Iscove': [2, 1],\n",
       " 'Christine Jeffs': [1, 1],\n",
       " 'Chris Buck': [2, 2],\n",
       " 'Jennifer Lee': [1, 1],\n",
       " 'Alfonso CuarÃ³n': [3, 2],\n",
       " 'Shane Black': [1, 1],\n",
       " 'Steve McQueen': [1, 1],\n",
       " 'Dan Scanlon': [1, 1],\n",
       " 'Tommy Wirkola': [1, 1],\n",
       " 'Carl Rinsch': [1, 0],\n",
       " 'Klay Hall': [1, 1],\n",
       " 'Harmony Korine': [1, 1],\n",
       " 'Fede Alvarez': [1, 1],\n",
       " 'Derek Cianfrance': [1, 1],\n",
       " 'Kimberly Peirce': [1, 1],\n",
       " 'John Carney': [1, 1],\n",
       " 'Justin Zackham': [1, 0],\n",
       " 'Taylor Hackford': [2, 2],\n",
       " 'Mike Flanagan': [1, 1],\n",
       " 'David Soren': [1, 1],\n",
       " 'Steven Knight': [1, 0],\n",
       " 'Spike Lee': [2, 1],\n",
       " 'Andy Muschietti': [1, 1],\n",
       " 'Rusty Cundieff': [1, 1],\n",
       " 'James Duffy': [1, 1],\n",
       " 'Griffin Dunne': [1, 1],\n",
       " 'Patrik Forsberg': [1, 1],\n",
       " 'Will Graham': [1, 1],\n",
       " 'Jonathan van Tulleken': [1, 1],\n",
       " 'Scott Moore': [1, 1],\n",
       " 'Jon Lucas': [1, 1],\n",
       " 'Callan Brunker': [1, 1],\n",
       " 'Amma Asante': [1, 1],\n",
       " 'Sofia Coppola': [2, 2],\n",
       " 'Dito Montiel': [1, 0],\n",
       " 'Cody Cameron': [1, 1],\n",
       " 'Kris Pearn': [1, 1],\n",
       " 'Giuseppe Tornatore': [1, 1],\n",
       " 'Don Scardino': [1, 0],\n",
       " 'Jeff Nichols': [1, 1],\n",
       " 'Jonathan Teplitzky': [1, 1],\n",
       " 'Neil Nightingale': [1, 1],\n",
       " 'Barry Cook': [1, 1],\n",
       " 'Scott Walker': [1, 0],\n",
       " 'Guillaume Canet': [1, 0],\n",
       " 'Ric Roman Waugh': [1, 1],\n",
       " 'Keanu Reeves': [1, 0],\n",
       " 'David E. Talbert': [1, 1],\n",
       " 'Christopher B. Landon': [1, 1],\n",
       " 'Benson Lee': [1, 0],\n",
       " 'Anthony Silverston': [1, 1],\n",
       " 'Kasi Lemmons': [1, 0],\n",
       " 'Dan St. Pierre': [1, 0],\n",
       " 'Zal Batmanglij': [1, 0],\n",
       " 'Ed Gass-Donnelly': [1, 1],\n",
       " 'Justin Chadwick': [1, 0],\n",
       " 'Stephen Frears': [3, 3],\n",
       " 'Oliver Hirschbiegel': [2, 1],\n",
       " 'Courtney Solomon': [2, 0],\n",
       " 'Fyodor Bondarchuk': [1, 1],\n",
       " 'Garth Jennings': [1, 1],\n",
       " 'Mark Dindal': [2, 2],\n",
       " 'Mike Johnson': [1, 1],\n",
       " 'Steve Box': [1, 1],\n",
       " 'Nick Park': [2, 2],\n",
       " 'John Maybury': [1, 0],\n",
       " 'Angela Robinson': [1, 1],\n",
       " 'Cory Edwards': [1, 1],\n",
       " 'Todd Edwards': [1, 1],\n",
       " 'Tony Leech': [1, 1],\n",
       " 'John Polson': [1, 1],\n",
       " 'Sydney Pollack': [1, 1],\n",
       " 'Terry Gilliam': [1, 1],\n",
       " 'Florent-Emilio Siri': [1, 1],\n",
       " 'Jay Chandrasekhar': [2, 1],\n",
       " 'Frederik Du Chau': [1, 1],\n",
       " 'Andrew Douglas': [1, 1],\n",
       " 'Dean Parisot': [1, 1],\n",
       " 'Kevin Rodney Sullivan': [2, 2],\n",
       " 'Jean-FranÃ§ois Richet': [1, 1],\n",
       " 'Jim Jarmusch': [1, 1],\n",
       " 'George A. Romero': [1, 1],\n",
       " 'Rupert Wainwright': [1, 1],\n",
       " 'Clare Kilner': [1, 1],\n",
       " 'Richard Shepard': [1, 1],\n",
       " 'Gary Chapman': [1, 0],\n",
       " 'Fernando Meirelles': [1, 1],\n",
       " 'Tommy Lee Jones': [1, 0],\n",
       " 'Danny Cannon': [1, 0],\n",
       " 'Geoffrey Sax': [2, 1],\n",
       " 'Liev Schreiber': [1, 0],\n",
       " 'Stephen Kay': [1, 1],\n",
       " 'Bruce Hunt': [1, 0],\n",
       " 'Niki Caro': [1, 0],\n",
       " 'Joe Ranft': [1, 1],\n",
       " 'Karey Kirkpatrick': [1, 1],\n",
       " 'Frank Marshall': [1, 1],\n",
       " 'James Wong': [2, 2],\n",
       " 'Christophe Gans': [1, 1],\n",
       " \"Steve 'Spaz' Williams\": [1, 0],\n",
       " 'Stefen Fangmeier': [1, 1],\n",
       " 'Alejandro Agresti': [1, 1],\n",
       " 'Mel Gibson': [2, 2],\n",
       " 'Robert De Niro': [1, 0],\n",
       " 'Kevin Reynolds': [1, 0],\n",
       " \"Matthew O'Callaghan\": [1, 1],\n",
       " 'Steven Zaillian': [1, 0],\n",
       " 'Joe Roth': [1, 0],\n",
       " 'Darren Lynn Bousman': [2, 2],\n",
       " 'Jared Hess': [1, 1],\n",
       " 'Wolfgang Petersen': [3, 3],\n",
       " 'Steven Shainberg': [1, 0],\n",
       " 'Jonathan Dayton': [1, 1],\n",
       " 'Valerie Faris': [1, 1],\n",
       " 'Greg Coolidge': [1, 1],\n",
       " 'Nick Hurran': [2, 0],\n",
       " 'Roger Allers': [1, 1],\n",
       " 'Jill Culton': [1, 1],\n",
       " 'Steve Oedekerk': [1, 1],\n",
       " 'Chris Noonan': [1, 1],\n",
       " 'Jim Sonzero': [1, 0],\n",
       " 'John Bonito': [1, 1],\n",
       " 'Liz Friedlander': [1, 1],\n",
       " 'Peter Hewitt': [2, 1],\n",
       " 'Elizabeth Allen Rosenbaum': [1, 1],\n",
       " 'Richard Eyre': [1, 1],\n",
       " 'Tony Bill': [1, 0],\n",
       " 'Wayne Kramer': [1, 0],\n",
       " 'Susannah Grant': [1, 0],\n",
       " 'Takashi Shimizu': [2, 2],\n",
       " 'Richard Loncraine': [2, 2],\n",
       " 'Liam Lynch': [1, 0],\n",
       " 'Sanjay Gadhvi': [1, 1],\n",
       " 'Glen Morgan': [1, 1],\n",
       " 'Phil Joanou': [1, 1],\n",
       " 'Mira Nair': [2, 1],\n",
       " 'Rachid Bouchareb': [1, 1],\n",
       " 'William Brent Bell': [1, 1],\n",
       " 'Asif Kapadia': [1, 0],\n",
       " 'Doug Atchison': [1, 1],\n",
       " 'Beeban Kidron': [1, 0],\n",
       " 'Eric Bress': [1, 1],\n",
       " 'J. Mackye Gruber': [1, 1],\n",
       " 'Alexander Witt': [1, 1],\n",
       " 'Bibo Bergeron': [2, 1],\n",
       " 'Kerry Conran': [1, 0],\n",
       " 'Stephen Hillenburg': [1, 1],\n",
       " \"Tommy O'Haver\": [1, 0],\n",
       " 'Mark Rosman': [1, 1],\n",
       " 'Rawson Marshall Thurber': [1, 1],\n",
       " 'Danny Leiner': [2, 2],\n",
       " 'Jeff Schaffer': [1, 0],\n",
       " 'Mike Nichols': [2, 2],\n",
       " 'Jonathan Hensleigh': [1, 1],\n",
       " 'Pitof': [1, 0],\n",
       " 'Don Mancini': [1, 1],\n",
       " 'Charles Shyer': [1, 0],\n",
       " 'Will Finn': [1, 0],\n",
       " 'John Sanford': [1, 0],\n",
       " 'Terry George': [1, 1],\n",
       " 'Philip Kaufman': [2, 0],\n",
       " 'Trey Parker': [1, 1],\n",
       " 'Sara Sugarman': [1, 1],\n",
       " 'Guy Ferland': [1, 1],\n",
       " 'Joseph Ruben': [1, 1],\n",
       " 'Nick Hamm': [1, 1],\n",
       " 'Paul Abascal': [1, 0],\n",
       " 'Joseph Kahn': [1, 1],\n",
       " \"Gavin O'Connor\": [1, 1],\n",
       " 'E. Elias Merhige': [1, 0],\n",
       " 'George Armitage': [1, 0],\n",
       " 'David Mamet': [1, 0],\n",
       " 'Kevin Allen': [1, 1],\n",
       " 'Christopher Erskin': [1, 1],\n",
       " 'Jay Russell': [2, 2],\n",
       " 'Jan Pinkava': [1, 1],\n",
       " 'Sean Penn': [1, 1],\n",
       " 'Raman Hui': [1, 1],\n",
       " 'Steve Hickner': [1, 1],\n",
       " 'Stephen J. Anderson': [1, 1],\n",
       " 'Richard LaGravenese': [2, 2],\n",
       " 'Kevin Lima': [2, 2],\n",
       " 'Juan Carlos Fresnadillo': [1, 1],\n",
       " 'Steve Bendelack': [1, 1],\n",
       " 'Bruce A. Evans': [1, 1],\n",
       " 'Kirsten Sheridan': [1, 1],\n",
       " 'Joby Harold': [1, 0],\n",
       " 'Philip G. Atwell': [1, 1],\n",
       " 'Mennan Yapo': [1, 1],\n",
       " 'Michael Davis': [1, 0],\n",
       " 'Ash Brannon': [1, 1],\n",
       " 'Xavier Gens': [1, 1],\n",
       " 'Eli Roth': [2, 1],\n",
       " 'Jason Eisener': [1, 0],\n",
       " 'David Schwimmer': [1, 1],\n",
       " 'Dave Meyers': [1, 1],\n",
       " 'Chris Sivertson': [1, 0],\n",
       " 'Michael Haneke': [1, 0],\n",
       " 'Sidney Lumet': [1, 1],\n",
       " 'Fred Savage': [1, 1],\n",
       " 'Russell Mulcahy': [1, 1],\n",
       " 'Michael Winterbottom': [1, 1],\n",
       " 'Stephen Hopkins': [1, 1],\n",
       " 'James Foley': [1, 1],\n",
       " 'Mark Helfrich': [1, 1],\n",
       " 'Jon Kasdan': [1, 1],\n",
       " 'Shari Springer Berman': [1, 1],\n",
       " 'Robert Pulcini': [1, 1],\n",
       " 'James Gray': [1, 1],\n",
       " 'Peter Hedges': [1, 1],\n",
       " 'Roland JoffÃ©': [1, 0],\n",
       " 'Amy Heckerling': [1, 0],\n",
       " 'Susanne Bier': [1, 0],\n",
       " 'Alastair Fothergill': [1, 1],\n",
       " 'Mark Linfield': [1, 1],\n",
       " 'Doug Lefler': [1, 0],\n",
       " 'Wong Kar-wai': [1, 1],\n",
       " 'Sylvain White': [1, 1],\n",
       " 'David Leland': [1, 0],\n",
       " 'Chris Rock': [1, 1],\n",
       " 'Peter Webber': [1, 1],\n",
       " 'Feng Xiaogang': [1, 1],\n",
       " 'Ben Garant': [1, 1],\n",
       " 'Ralph Zondag': [1, 1],\n",
       " 'Eric Leighton': [1, 1],\n",
       " 'David McNally': [1, 1],\n",
       " 'Ben Younger': [1, 1],\n",
       " 'Don Michael Paul': [1, 0],\n",
       " 'Mimi Leder': [1, 1],\n",
       " 'Paul Verhoeven': [1, 1],\n",
       " 'Mary Harron': [1, 1],\n",
       " 'Lars von Trier': [1, 1],\n",
       " 'Roger Spottiswoode': [1, 1],\n",
       " 'Antony Hoffman': [1, 0],\n",
       " 'Stephen T. Kay': [1, 0],\n",
       " 'Don Bluth': [1, 0],\n",
       " 'Gary Goldman': [1, 0],\n",
       " 'John Frankenheimer': [1, 0],\n",
       " 'Edward Norton': [1, 1],\n",
       " 'Jack Sholder': [1, 0],\n",
       " 'Christian Duguay': [1, 0],\n",
       " 'David Raynr': [1, 0],\n",
       " 'Douglas Aarniokoski': [1, 0],\n",
       " 'Davis Guggenheim': [1, 0],\n",
       " 'Bonnie Hunt': [1, 1],\n",
       " 'Uli Edel': [1, 0],\n",
       " 'Des McAnuff': [1, 0],\n",
       " 'Diane Keaton': [1, 0],\n",
       " 'Mary Lambert': [1, 0]}"
      ]
     },
     "metadata": {},
     "output_type": "display_data"
    }
   ],
   "source": [
    "#Получил массив ['режиссёр', сколько снял всего, сколько в плюсе]\n",
    "#Как из этих данных получить вероятность?\n",
    "dirs = {}\n",
    "for i in df.director:\n",
    "    for j in i.split('|'):\n",
    "        dirs[j] = [0,0] #first=count, second = positive profit\n",
    "cur.execute('SELECT `director`, `profit` FROM `films`')\n",
    "f = cur.fetchall()\n",
    "for i in f:\n",
    "    for j in dirs:\n",
    "        if j in i[0].split('|'):\n",
    "            dirs[j][0]+=1\n",
    "            if i[1]>0:\n",
    "                dirs[j][1]+=1\n",
    "display(dirs)\n",
    "answer_ls.append(1)"
   ]
  },
  {
   "cell_type": "markdown",
   "metadata": {},
   "source": [
    "# Submission"
   ]
  },
  {
   "cell_type": "code",
   "execution_count": 9,
   "metadata": {},
   "outputs": [
    {
     "data": {
      "text/plain": [
       "1"
      ]
     },
     "execution_count": 9,
     "metadata": {},
     "output_type": "execute_result"
    }
   ],
   "source": [
    "len(answer_ls)"
   ]
  },
  {
   "cell_type": "code",
   "execution_count": 135,
   "metadata": {},
   "outputs": [
    {
     "data": {
      "text/html": [
       "<div>\n",
       "<style scoped>\n",
       "    .dataframe tbody tr th:only-of-type {\n",
       "        vertical-align: middle;\n",
       "    }\n",
       "\n",
       "    .dataframe tbody tr th {\n",
       "        vertical-align: top;\n",
       "    }\n",
       "\n",
       "    .dataframe thead th {\n",
       "        text-align: right;\n",
       "    }\n",
       "</style>\n",
       "<table border=\"1\" class=\"dataframe\">\n",
       "  <thead>\n",
       "    <tr style=\"text-align: right;\">\n",
       "      <th></th>\n",
       "      <th>Id</th>\n",
       "      <th>Answer</th>\n",
       "    </tr>\n",
       "  </thead>\n",
       "  <tbody>\n",
       "    <tr>\n",
       "      <th>0</th>\n",
       "      <td>1</td>\n",
       "      <td>4</td>\n",
       "    </tr>\n",
       "    <tr>\n",
       "      <th>1</th>\n",
       "      <td>2</td>\n",
       "      <td>2</td>\n",
       "    </tr>\n",
       "    <tr>\n",
       "      <th>2</th>\n",
       "      <td>3</td>\n",
       "      <td>3</td>\n",
       "    </tr>\n",
       "    <tr>\n",
       "      <th>3</th>\n",
       "      <td>4</td>\n",
       "      <td>2</td>\n",
       "    </tr>\n",
       "    <tr>\n",
       "      <th>4</th>\n",
       "      <td>5</td>\n",
       "      <td>1</td>\n",
       "    </tr>\n",
       "    <tr>\n",
       "      <th>5</th>\n",
       "      <td>6</td>\n",
       "      <td>5</td>\n",
       "    </tr>\n",
       "    <tr>\n",
       "      <th>6</th>\n",
       "      <td>7</td>\n",
       "      <td>2</td>\n",
       "    </tr>\n",
       "    <tr>\n",
       "      <th>7</th>\n",
       "      <td>8</td>\n",
       "      <td>1</td>\n",
       "    </tr>\n",
       "    <tr>\n",
       "      <th>8</th>\n",
       "      <td>9</td>\n",
       "      <td>4</td>\n",
       "    </tr>\n",
       "    <tr>\n",
       "      <th>9</th>\n",
       "      <td>10</td>\n",
       "      <td>5</td>\n",
       "    </tr>\n",
       "    <tr>\n",
       "      <th>10</th>\n",
       "      <td>11</td>\n",
       "      <td>3</td>\n",
       "    </tr>\n",
       "    <tr>\n",
       "      <th>11</th>\n",
       "      <td>12</td>\n",
       "      <td>1</td>\n",
       "    </tr>\n",
       "    <tr>\n",
       "      <th>12</th>\n",
       "      <td>13</td>\n",
       "      <td>3</td>\n",
       "    </tr>\n",
       "    <tr>\n",
       "      <th>13</th>\n",
       "      <td>14</td>\n",
       "      <td>4</td>\n",
       "    </tr>\n",
       "    <tr>\n",
       "      <th>14</th>\n",
       "      <td>15</td>\n",
       "      <td>5</td>\n",
       "    </tr>\n",
       "    <tr>\n",
       "      <th>15</th>\n",
       "      <td>16</td>\n",
       "      <td>1</td>\n",
       "    </tr>\n",
       "    <tr>\n",
       "      <th>16</th>\n",
       "      <td>17</td>\n",
       "      <td>3</td>\n",
       "    </tr>\n",
       "    <tr>\n",
       "      <th>17</th>\n",
       "      <td>18</td>\n",
       "      <td>3</td>\n",
       "    </tr>\n",
       "    <tr>\n",
       "      <th>18</th>\n",
       "      <td>19</td>\n",
       "      <td>2</td>\n",
       "    </tr>\n",
       "    <tr>\n",
       "      <th>19</th>\n",
       "      <td>20</td>\n",
       "      <td>1</td>\n",
       "    </tr>\n",
       "    <tr>\n",
       "      <th>20</th>\n",
       "      <td>21</td>\n",
       "      <td>4</td>\n",
       "    </tr>\n",
       "    <tr>\n",
       "      <th>21</th>\n",
       "      <td>22</td>\n",
       "      <td>2</td>\n",
       "    </tr>\n",
       "    <tr>\n",
       "      <th>22</th>\n",
       "      <td>23</td>\n",
       "      <td>3</td>\n",
       "    </tr>\n",
       "    <tr>\n",
       "      <th>23</th>\n",
       "      <td>24</td>\n",
       "      <td>1</td>\n",
       "    </tr>\n",
       "    <tr>\n",
       "      <th>24</th>\n",
       "      <td>25</td>\n",
       "      <td>5</td>\n",
       "    </tr>\n",
       "    <tr>\n",
       "      <th>25</th>\n",
       "      <td>26</td>\n",
       "      <td>1</td>\n",
       "    </tr>\n",
       "    <tr>\n",
       "      <th>26</th>\n",
       "      <td>27</td>\n",
       "      <td>4</td>\n",
       "    </tr>\n",
       "    <tr>\n",
       "      <th>27</th>\n",
       "      <td>28</td>\n",
       "      <td>2</td>\n",
       "    </tr>\n",
       "    <tr>\n",
       "      <th>28</th>\n",
       "      <td>29</td>\n",
       "      <td>5</td>\n",
       "    </tr>\n",
       "    <tr>\n",
       "      <th>29</th>\n",
       "      <td>30</td>\n",
       "      <td>2</td>\n",
       "    </tr>\n",
       "    <tr>\n",
       "      <th>30</th>\n",
       "      <td>31</td>\n",
       "      <td>5</td>\n",
       "    </tr>\n",
       "    <tr>\n",
       "      <th>31</th>\n",
       "      <td>32</td>\n",
       "      <td>5</td>\n",
       "    </tr>\n",
       "    <tr>\n",
       "      <th>32</th>\n",
       "      <td>33</td>\n",
       "      <td>1</td>\n",
       "    </tr>\n",
       "    <tr>\n",
       "      <th>33</th>\n",
       "      <td>34</td>\n",
       "      <td>1</td>\n",
       "    </tr>\n",
       "    <tr>\n",
       "      <th>34</th>\n",
       "      <td>35</td>\n",
       "      <td>5</td>\n",
       "    </tr>\n",
       "    <tr>\n",
       "      <th>35</th>\n",
       "      <td>36</td>\n",
       "      <td>1</td>\n",
       "    </tr>\n",
       "  </tbody>\n",
       "</table>\n",
       "</div>"
      ],
      "text/plain": [
       "    Id  Answer\n",
       "0    1       4\n",
       "1    2       2\n",
       "2    3       3\n",
       "3    4       2\n",
       "4    5       1\n",
       "5    6       5\n",
       "6    7       2\n",
       "7    8       1\n",
       "8    9       4\n",
       "9   10       5\n",
       "10  11       3\n",
       "11  12       1\n",
       "12  13       3\n",
       "13  14       4\n",
       "14  15       5\n",
       "15  16       1\n",
       "16  17       3\n",
       "17  18       3\n",
       "18  19       2\n",
       "19  20       1\n",
       "20  21       4\n",
       "21  22       2\n",
       "22  23       3\n",
       "23  24       1\n",
       "24  25       5\n",
       "25  26       1\n",
       "26  27       4\n",
       "27  28       2\n",
       "28  29       5\n",
       "29  30       2\n",
       "30  31       5\n",
       "31  32       5\n",
       "32  33       1\n",
       "33  34       1\n",
       "34  35       5\n",
       "35  36       1"
      ]
     },
     "execution_count": 135,
     "metadata": {},
     "output_type": "execute_result"
    }
   ],
   "source": [
    "pd.DataFrame({'Id':range(1,len(answer_ls)+1), 'Answer':answer_ls}, columns=['Id', 'Answer'])"
   ]
  },
  {
   "cell_type": "code",
   "execution_count": null,
   "metadata": {},
   "outputs": [],
   "source": []
  }
 ],
 "metadata": {
  "kernelspec": {
   "display_name": "Python 3",
   "language": "python",
   "name": "python3"
  }
 },
 "nbformat": 4,
 "nbformat_minor": 4
}
